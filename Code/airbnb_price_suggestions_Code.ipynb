{
 "cells": [
  {
   "cell_type": "code",
   "execution_count": null,
   "id": "c3ea9c80",
   "metadata": {
    "id": "c3ea9c80"
   },
   "outputs": [
    {
     "name": "stderr",
     "output_type": "stream",
     "text": [
      "/Users/varshameghanakanmuri/opt/anaconda3/lib/python3.9/site-packages/tqdm/auto.py:21: TqdmWarning: IProgress not found. Please update jupyter and ipywidgets. See https://ipywidgets.readthedocs.io/en/stable/user_install.html\n",
      "  from .autonotebook import tqdm as notebook_tqdm\n"
     ]
    }
   ],
   "source": [
    "import numpy as np\n",
    "import pandas as pd\n",
    "import matplotlib.pyplot as plt\n",
    "import seaborn as sns\n",
    "import time\n",
    "import shap\n",
    "import warnings"
   ]
  },
  {
   "cell_type": "code",
   "execution_count": 2,
   "id": "2bba537b",
   "metadata": {
    "id": "2bba537b"
   },
   "outputs": [],
   "source": [
    "ab_df = pd.read_csv('../Data/Airbnb_Listings.csv')\n",
    "# ab_df = df_to_list_to_df(ab_df)"
   ]
  },
  {
   "cell_type": "code",
   "execution_count": 3,
   "id": "9c7d817d",
   "metadata": {
    "id": "9c7d817d"
   },
   "outputs": [],
   "source": [
    "pd.options.display.max_columns = None"
   ]
  },
  {
   "cell_type": "code",
   "execution_count": 4,
   "id": "0cbf5d1f",
   "metadata": {
    "id": "0cbf5d1f",
    "outputId": "dab047a0-09a7-48b9-ce5d-1aaab558fdca"
   },
   "outputs": [
    {
     "data": {
      "text/plain": [
       "id                                                int64\n",
       "listing_url                                      object\n",
       "scrape_id                                         int64\n",
       "last_scraped                                     object\n",
       "name                                             object\n",
       "                                                 ...   \n",
       "calculated_host_listings_count                    int64\n",
       "calculated_host_listings_count_entire_homes       int64\n",
       "calculated_host_listings_count_private_rooms      int64\n",
       "calculated_host_listings_count_shared_rooms       int64\n",
       "reviews_per_month                               float64\n",
       "Length: 106, dtype: object"
      ]
     },
     "execution_count": 4,
     "metadata": {},
     "output_type": "execute_result"
    }
   ],
   "source": [
    "ab_df.dtypes"
   ]
  },
  {
   "cell_type": "code",
   "execution_count": 5,
   "id": "de74ad63",
   "metadata": {
    "id": "de74ad63",
    "outputId": "9e00c5c9-2907-4b94-96c4-4be2ab14ff5d"
   },
   "outputs": [
    {
     "data": {
      "text/html": [
       "<div>\n",
       "<style scoped>\n",
       "    .dataframe tbody tr th:only-of-type {\n",
       "        vertical-align: middle;\n",
       "    }\n",
       "\n",
       "    .dataframe tbody tr th {\n",
       "        vertical-align: top;\n",
       "    }\n",
       "\n",
       "    .dataframe thead th {\n",
       "        text-align: right;\n",
       "    }\n",
       "</style>\n",
       "<table border=\"1\" class=\"dataframe\">\n",
       "  <thead>\n",
       "    <tr style=\"text-align: right;\">\n",
       "      <th></th>\n",
       "      <th>id</th>\n",
       "      <th>listing_url</th>\n",
       "      <th>scrape_id</th>\n",
       "      <th>last_scraped</th>\n",
       "      <th>name</th>\n",
       "      <th>summary</th>\n",
       "      <th>space</th>\n",
       "      <th>description</th>\n",
       "      <th>experiences_offered</th>\n",
       "      <th>neighborhood_overview</th>\n",
       "      <th>notes</th>\n",
       "      <th>transit</th>\n",
       "      <th>access</th>\n",
       "      <th>interaction</th>\n",
       "      <th>house_rules</th>\n",
       "      <th>thumbnail_url</th>\n",
       "      <th>medium_url</th>\n",
       "      <th>picture_url</th>\n",
       "      <th>xl_picture_url</th>\n",
       "      <th>host_id</th>\n",
       "      <th>host_url</th>\n",
       "      <th>host_name</th>\n",
       "      <th>host_since</th>\n",
       "      <th>host_location</th>\n",
       "      <th>host_about</th>\n",
       "      <th>host_response_time</th>\n",
       "      <th>host_response_rate</th>\n",
       "      <th>host_acceptance_rate</th>\n",
       "      <th>host_is_superhost</th>\n",
       "      <th>host_thumbnail_url</th>\n",
       "      <th>host_picture_url</th>\n",
       "      <th>host_neighbourhood</th>\n",
       "      <th>host_listings_count</th>\n",
       "      <th>host_total_listings_count</th>\n",
       "      <th>host_verifications</th>\n",
       "      <th>host_has_profile_pic</th>\n",
       "      <th>host_identity_verified</th>\n",
       "      <th>street</th>\n",
       "      <th>neighbourhood</th>\n",
       "      <th>neighbourhood_cleansed</th>\n",
       "      <th>neighbourhood_group_cleansed</th>\n",
       "      <th>city</th>\n",
       "      <th>state</th>\n",
       "      <th>zipcode</th>\n",
       "      <th>market</th>\n",
       "      <th>smart_location</th>\n",
       "      <th>country_code</th>\n",
       "      <th>country</th>\n",
       "      <th>latitude</th>\n",
       "      <th>longitude</th>\n",
       "      <th>is_location_exact</th>\n",
       "      <th>property_type</th>\n",
       "      <th>room_type</th>\n",
       "      <th>accommodates</th>\n",
       "      <th>bathrooms</th>\n",
       "      <th>bedrooms</th>\n",
       "      <th>beds</th>\n",
       "      <th>bed_type</th>\n",
       "      <th>amenities</th>\n",
       "      <th>square_feet</th>\n",
       "      <th>price</th>\n",
       "      <th>weekly_price</th>\n",
       "      <th>monthly_price</th>\n",
       "      <th>security_deposit</th>\n",
       "      <th>cleaning_fee</th>\n",
       "      <th>guests_included</th>\n",
       "      <th>extra_people</th>\n",
       "      <th>minimum_nights</th>\n",
       "      <th>maximum_nights</th>\n",
       "      <th>minimum_minimum_nights</th>\n",
       "      <th>maximum_minimum_nights</th>\n",
       "      <th>minimum_maximum_nights</th>\n",
       "      <th>maximum_maximum_nights</th>\n",
       "      <th>minimum_nights_avg_ntm</th>\n",
       "      <th>maximum_nights_avg_ntm</th>\n",
       "      <th>calendar_updated</th>\n",
       "      <th>has_availability</th>\n",
       "      <th>availability_30</th>\n",
       "      <th>availability_60</th>\n",
       "      <th>availability_90</th>\n",
       "      <th>availability_365</th>\n",
       "      <th>calendar_last_scraped</th>\n",
       "      <th>number_of_reviews</th>\n",
       "      <th>number_of_reviews_ltm</th>\n",
       "      <th>first_review</th>\n",
       "      <th>last_review</th>\n",
       "      <th>review_scores_rating</th>\n",
       "      <th>review_scores_accuracy</th>\n",
       "      <th>review_scores_cleanliness</th>\n",
       "      <th>review_scores_checkin</th>\n",
       "      <th>review_scores_communication</th>\n",
       "      <th>review_scores_location</th>\n",
       "      <th>review_scores_value</th>\n",
       "      <th>requires_license</th>\n",
       "      <th>license</th>\n",
       "      <th>jurisdiction_names</th>\n",
       "      <th>instant_bookable</th>\n",
       "      <th>is_business_travel_ready</th>\n",
       "      <th>cancellation_policy</th>\n",
       "      <th>require_guest_profile_picture</th>\n",
       "      <th>require_guest_phone_verification</th>\n",
       "      <th>calculated_host_listings_count</th>\n",
       "      <th>calculated_host_listings_count_entire_homes</th>\n",
       "      <th>calculated_host_listings_count_private_rooms</th>\n",
       "      <th>calculated_host_listings_count_shared_rooms</th>\n",
       "      <th>reviews_per_month</th>\n",
       "    </tr>\n",
       "  </thead>\n",
       "  <tbody>\n",
       "    <tr>\n",
       "      <th>0</th>\n",
       "      <td>4952</td>\n",
       "      <td>https://www.airbnb.com/rooms/4952</td>\n",
       "      <td>20200530151957</td>\n",
       "      <td>2020-05-30</td>\n",
       "      <td>Butterfly Inn - Graceful Living !</td>\n",
       "      <td>Lovely garden setting in a serene and art-fill...</td>\n",
       "      <td>Very comfortable Queen bed and small desk in b...</td>\n",
       "      <td>Lovely garden setting in a serene and art-fill...</td>\n",
       "      <td>none</td>\n",
       "      <td>Located in Professorville, Palo Alto, one of t...</td>\n",
       "      <td>Housekeeping every Monday, leave your door ope...</td>\n",
       "      <td>Walking distance to Stanford University (30 mi...</td>\n",
       "      <td>Kitchen, laundry, family/TV room, garden, free...</td>\n",
       "      <td>Welcome and Orientation. Shared kitchen, garde...</td>\n",
       "      <td>No shoes in the house beyond the hall or laund...</td>\n",
       "      <td>NaN</td>\n",
       "      <td>NaN</td>\n",
       "      <td>https://a0.muscache.com/im/pictures/529448/3d7...</td>\n",
       "      <td>NaN</td>\n",
       "      <td>7054</td>\n",
       "      <td>https://www.airbnb.com/users/show/7054</td>\n",
       "      <td>Mei Lin</td>\n",
       "      <td>2009-01-24</td>\n",
       "      <td>Palo Alto, California, United States</td>\n",
       "      <td>I have lived and worked in Asia, Europe, Austr...</td>\n",
       "      <td>within an hour</td>\n",
       "      <td>100%</td>\n",
       "      <td>98%</td>\n",
       "      <td>t</td>\n",
       "      <td>https://a0.muscache.com/im/users/7054/profile_...</td>\n",
       "      <td>https://a0.muscache.com/im/users/7054/profile_...</td>\n",
       "      <td>Palo Alto</td>\n",
       "      <td>5.0</td>\n",
       "      <td>5.0</td>\n",
       "      <td>['email', 'phone', 'reviews', 'jumio', 'offlin...</td>\n",
       "      <td>t</td>\n",
       "      <td>f</td>\n",
       "      <td>Palo Alto, CA, United States</td>\n",
       "      <td>Palo Alto</td>\n",
       "      <td>Palo Alto</td>\n",
       "      <td>NaN</td>\n",
       "      <td>Palo Alto</td>\n",
       "      <td>CA</td>\n",
       "      <td>94301</td>\n",
       "      <td>South Bay, CA</td>\n",
       "      <td>Palo Alto, CA</td>\n",
       "      <td>US</td>\n",
       "      <td>United States</td>\n",
       "      <td>37.43972</td>\n",
       "      <td>-122.15672</td>\n",
       "      <td>t</td>\n",
       "      <td>Villa</td>\n",
       "      <td>Private room</td>\n",
       "      <td>2</td>\n",
       "      <td>2.0</td>\n",
       "      <td>1.0</td>\n",
       "      <td>1.0</td>\n",
       "      <td>Real Bed</td>\n",
       "      <td>{TV,\"Cable TV\",Internet,Wifi,Kitchen,Heating,W...</td>\n",
       "      <td>NaN</td>\n",
       "      <td>$90.00</td>\n",
       "      <td>$440.00</td>\n",
       "      <td>$1,428.00</td>\n",
       "      <td>$0.00</td>\n",
       "      <td>$35.00</td>\n",
       "      <td>1</td>\n",
       "      <td>$45.00</td>\n",
       "      <td>2</td>\n",
       "      <td>365</td>\n",
       "      <td>2</td>\n",
       "      <td>2</td>\n",
       "      <td>365</td>\n",
       "      <td>365</td>\n",
       "      <td>2.0</td>\n",
       "      <td>365.0</td>\n",
       "      <td>2 months ago</td>\n",
       "      <td>t</td>\n",
       "      <td>0</td>\n",
       "      <td>0</td>\n",
       "      <td>0</td>\n",
       "      <td>0</td>\n",
       "      <td>2020-05-30</td>\n",
       "      <td>75</td>\n",
       "      <td>0</td>\n",
       "      <td>2009-08-02</td>\n",
       "      <td>2019-01-12</td>\n",
       "      <td>96.0</td>\n",
       "      <td>10.0</td>\n",
       "      <td>10.0</td>\n",
       "      <td>10.0</td>\n",
       "      <td>10.0</td>\n",
       "      <td>10.0</td>\n",
       "      <td>10.0</td>\n",
       "      <td>f</td>\n",
       "      <td>NaN</td>\n",
       "      <td>{\"PALO ALTO\"}</td>\n",
       "      <td>f</td>\n",
       "      <td>f</td>\n",
       "      <td>moderate</td>\n",
       "      <td>f</td>\n",
       "      <td>f</td>\n",
       "      <td>5</td>\n",
       "      <td>0</td>\n",
       "      <td>5</td>\n",
       "      <td>0</td>\n",
       "      <td>0.57</td>\n",
       "    </tr>\n",
       "    <tr>\n",
       "      <th>1</th>\n",
       "      <td>11464</td>\n",
       "      <td>https://www.airbnb.com/rooms/11464</td>\n",
       "      <td>20200530151957</td>\n",
       "      <td>2020-05-31</td>\n",
       "      <td>Deluxe Private Studio-custom int.</td>\n",
       "      <td>Custom built Studio with exquisite design. Rea...</td>\n",
       "      <td>Description A favorite for international corpo...</td>\n",
       "      <td>Custom built Studio with exquisite design. Rea...</td>\n",
       "      <td>none</td>\n",
       "      <td>10 min. to Lucky's and Starbucks at El Camino ...</td>\n",
       "      <td>Pet Policy: - Well Behaved pet up to 25 lb. of...</td>\n",
       "      <td>Public transportation at Homestead and Pomeroy...</td>\n",
       "      <td>Complimentary Wifi-internet + Basic Cable</td>\n",
       "      <td>Available any time for support and problem res...</td>\n",
       "      <td>Can house a couple- bed type is a full size be...</td>\n",
       "      <td>NaN</td>\n",
       "      <td>NaN</td>\n",
       "      <td>https://a0.muscache.com/im/pictures/121321/2c5...</td>\n",
       "      <td>NaN</td>\n",
       "      <td>42458</td>\n",
       "      <td>https://www.airbnb.com/users/show/42458</td>\n",
       "      <td>Emey</td>\n",
       "      <td>2009-09-30</td>\n",
       "      <td>Mountain View, California, United States</td>\n",
       "      <td>I pride myself on attention to details and cus...</td>\n",
       "      <td>within an hour</td>\n",
       "      <td>100%</td>\n",
       "      <td>90%</td>\n",
       "      <td>f</td>\n",
       "      <td>https://a0.muscache.com/im/users/42458/profile...</td>\n",
       "      <td>https://a0.muscache.com/im/users/42458/profile...</td>\n",
       "      <td>Santa Clara</td>\n",
       "      <td>13.0</td>\n",
       "      <td>13.0</td>\n",
       "      <td>['email', 'phone', 'reviews']</td>\n",
       "      <td>t</td>\n",
       "      <td>f</td>\n",
       "      <td>Santa Clara, CA, United States</td>\n",
       "      <td>Santa Clara</td>\n",
       "      <td>Santa Clara</td>\n",
       "      <td>NaN</td>\n",
       "      <td>Santa Clara</td>\n",
       "      <td>CA</td>\n",
       "      <td>95051</td>\n",
       "      <td>South Bay, CA</td>\n",
       "      <td>Santa Clara, CA</td>\n",
       "      <td>US</td>\n",
       "      <td>United States</td>\n",
       "      <td>37.34342</td>\n",
       "      <td>-121.98829</td>\n",
       "      <td>t</td>\n",
       "      <td>Apartment</td>\n",
       "      <td>Entire home/apt</td>\n",
       "      <td>1</td>\n",
       "      <td>1.0</td>\n",
       "      <td>NaN</td>\n",
       "      <td>1.0</td>\n",
       "      <td>Real Bed</td>\n",
       "      <td>{TV,\"Cable TV\",Internet,Wifi,\"Air conditioning...</td>\n",
       "      <td>325.0</td>\n",
       "      <td>$85.00</td>\n",
       "      <td>NaN</td>\n",
       "      <td>$2,100.00</td>\n",
       "      <td>$700.00</td>\n",
       "      <td>$250.00</td>\n",
       "      <td>1</td>\n",
       "      <td>$10.00</td>\n",
       "      <td>14</td>\n",
       "      <td>365</td>\n",
       "      <td>14</td>\n",
       "      <td>14</td>\n",
       "      <td>365</td>\n",
       "      <td>365</td>\n",
       "      <td>14.0</td>\n",
       "      <td>365.0</td>\n",
       "      <td>5 months ago</td>\n",
       "      <td>t</td>\n",
       "      <td>30</td>\n",
       "      <td>60</td>\n",
       "      <td>90</td>\n",
       "      <td>179</td>\n",
       "      <td>2020-05-31</td>\n",
       "      <td>6</td>\n",
       "      <td>1</td>\n",
       "      <td>2014-06-15</td>\n",
       "      <td>2019-10-11</td>\n",
       "      <td>87.0</td>\n",
       "      <td>10.0</td>\n",
       "      <td>10.0</td>\n",
       "      <td>10.0</td>\n",
       "      <td>9.0</td>\n",
       "      <td>9.0</td>\n",
       "      <td>9.0</td>\n",
       "      <td>f</td>\n",
       "      <td>NaN</td>\n",
       "      <td>{\"SANTA CLARA\"}</td>\n",
       "      <td>f</td>\n",
       "      <td>f</td>\n",
       "      <td>moderate</td>\n",
       "      <td>f</td>\n",
       "      <td>t</td>\n",
       "      <td>12</td>\n",
       "      <td>12</td>\n",
       "      <td>0</td>\n",
       "      <td>0</td>\n",
       "      <td>0.08</td>\n",
       "    </tr>\n",
       "    <tr>\n",
       "      <th>2</th>\n",
       "      <td>17884</td>\n",
       "      <td>https://www.airbnb.com/rooms/17884</td>\n",
       "      <td>20200530151957</td>\n",
       "      <td>2020-05-31</td>\n",
       "      <td>Silicon Valley Suite</td>\n",
       "      <td>A guest suite for one or two, in a house in a ...</td>\n",
       "      <td>This is a private suite at the rear of a house...</td>\n",
       "      <td>A guest suite for one or two, in a house in a ...</td>\n",
       "      <td>none</td>\n",
       "      <td>This is a very quiet family neighborhood, but ...</td>\n",
       "      <td>I cannot accommodate cats, sorry. I can usuall...</td>\n",
       "      <td>The CalTrain station is in walking distance, a...</td>\n",
       "      <td>Private outdoor patio. Shared washer/dryer on ...</td>\n",
       "      <td>I am usually in town.  Guests have a private e...</td>\n",
       "      <td>This is a quiet neighborhood, and the suite sh...</td>\n",
       "      <td>NaN</td>\n",
       "      <td>NaN</td>\n",
       "      <td>https://a0.muscache.com/im/pictures/08c0f0aa-3...</td>\n",
       "      <td>NaN</td>\n",
       "      <td>69023</td>\n",
       "      <td>https://www.airbnb.com/users/show/69023</td>\n",
       "      <td>Janet</td>\n",
       "      <td>2010-01-08</td>\n",
       "      <td>Lynn Haven, Florida, United States</td>\n",
       "      <td>I am a software engineer, recently retired fro...</td>\n",
       "      <td>within a day</td>\n",
       "      <td>100%</td>\n",
       "      <td>50%</td>\n",
       "      <td>f</td>\n",
       "      <td>https://a0.muscache.com/im/users/69023/profile...</td>\n",
       "      <td>https://a0.muscache.com/im/users/69023/profile...</td>\n",
       "      <td>Palo Alto</td>\n",
       "      <td>2.0</td>\n",
       "      <td>2.0</td>\n",
       "      <td>['email', 'phone', 'reviews', 'kba']</td>\n",
       "      <td>t</td>\n",
       "      <td>t</td>\n",
       "      <td>Mountain View, CA, United States</td>\n",
       "      <td>Mountain View</td>\n",
       "      <td>Mountain View</td>\n",
       "      <td>NaN</td>\n",
       "      <td>Mountain View</td>\n",
       "      <td>CA</td>\n",
       "      <td>94041</td>\n",
       "      <td>South Bay, CA</td>\n",
       "      <td>Mountain View, CA</td>\n",
       "      <td>US</td>\n",
       "      <td>United States</td>\n",
       "      <td>37.38612</td>\n",
       "      <td>-122.07357</td>\n",
       "      <td>t</td>\n",
       "      <td>Guest suite</td>\n",
       "      <td>Entire home/apt</td>\n",
       "      <td>2</td>\n",
       "      <td>1.0</td>\n",
       "      <td>1.0</td>\n",
       "      <td>1.0</td>\n",
       "      <td>Real Bed</td>\n",
       "      <td>{TV,\"Cable TV\",Internet,Wifi,\"Air conditioning...</td>\n",
       "      <td>NaN</td>\n",
       "      <td>$65.00</td>\n",
       "      <td>$1,400.00</td>\n",
       "      <td>$2,800.00</td>\n",
       "      <td>$1,000.00</td>\n",
       "      <td>NaN</td>\n",
       "      <td>1</td>\n",
       "      <td>$0.00</td>\n",
       "      <td>30</td>\n",
       "      <td>180</td>\n",
       "      <td>30</td>\n",
       "      <td>30</td>\n",
       "      <td>180</td>\n",
       "      <td>180</td>\n",
       "      <td>30.0</td>\n",
       "      <td>180.0</td>\n",
       "      <td>4 weeks ago</td>\n",
       "      <td>t</td>\n",
       "      <td>29</td>\n",
       "      <td>59</td>\n",
       "      <td>89</td>\n",
       "      <td>179</td>\n",
       "      <td>2020-05-31</td>\n",
       "      <td>2</td>\n",
       "      <td>0</td>\n",
       "      <td>2018-11-20</td>\n",
       "      <td>2019-04-27</td>\n",
       "      <td>90.0</td>\n",
       "      <td>8.0</td>\n",
       "      <td>10.0</td>\n",
       "      <td>10.0</td>\n",
       "      <td>10.0</td>\n",
       "      <td>10.0</td>\n",
       "      <td>10.0</td>\n",
       "      <td>f</td>\n",
       "      <td>NaN</td>\n",
       "      <td>{\"Mountain View\",\" CA\"}</td>\n",
       "      <td>f</td>\n",
       "      <td>f</td>\n",
       "      <td>strict_14_with_grace_period</td>\n",
       "      <td>f</td>\n",
       "      <td>f</td>\n",
       "      <td>2</td>\n",
       "      <td>2</td>\n",
       "      <td>0</td>\n",
       "      <td>0</td>\n",
       "      <td>0.11</td>\n",
       "    </tr>\n",
       "    <tr>\n",
       "      <th>3</th>\n",
       "      <td>21373</td>\n",
       "      <td>https://www.airbnb.com/rooms/21373</td>\n",
       "      <td>20200530151957</td>\n",
       "      <td>2020-05-30</td>\n",
       "      <td>Bonsai Garden Inn in Professorville</td>\n",
       "      <td>Room  in gracious home with beautiful garden. ...</td>\n",
       "      <td>Bright, garden-facing room in beautiful home. ...</td>\n",
       "      <td>Room  in gracious home with beautiful garden. ...</td>\n",
       "      <td>none</td>\n",
       "      <td>This room is in an ultra convenient location i...</td>\n",
       "      <td>The family room has a flat panel tv and desk f...</td>\n",
       "      <td>The Stanford Shopping Center is 20 minutes wal...</td>\n",
       "      <td>Kitchen, Laundry, Garden, Family Room with TV,...</td>\n",
       "      <td>We will see you everyday as we cook meals in t...</td>\n",
       "      <td>No shoes in the house beyond hall or laundry. ...</td>\n",
       "      <td>NaN</td>\n",
       "      <td>NaN</td>\n",
       "      <td>https://a0.muscache.com/im/pictures/527285/0f9...</td>\n",
       "      <td>NaN</td>\n",
       "      <td>7054</td>\n",
       "      <td>https://www.airbnb.com/users/show/7054</td>\n",
       "      <td>Mei Lin</td>\n",
       "      <td>2009-01-24</td>\n",
       "      <td>Palo Alto, California, United States</td>\n",
       "      <td>I have lived and worked in Asia, Europe, Austr...</td>\n",
       "      <td>within an hour</td>\n",
       "      <td>100%</td>\n",
       "      <td>98%</td>\n",
       "      <td>t</td>\n",
       "      <td>https://a0.muscache.com/im/users/7054/profile_...</td>\n",
       "      <td>https://a0.muscache.com/im/users/7054/profile_...</td>\n",
       "      <td>Palo Alto</td>\n",
       "      <td>5.0</td>\n",
       "      <td>5.0</td>\n",
       "      <td>['email', 'phone', 'reviews', 'jumio', 'offlin...</td>\n",
       "      <td>t</td>\n",
       "      <td>f</td>\n",
       "      <td>Palo Alto, CA, United States</td>\n",
       "      <td>Palo Alto</td>\n",
       "      <td>Palo Alto</td>\n",
       "      <td>NaN</td>\n",
       "      <td>Palo Alto</td>\n",
       "      <td>CA</td>\n",
       "      <td>94301</td>\n",
       "      <td>South Bay, CA</td>\n",
       "      <td>Palo Alto, CA</td>\n",
       "      <td>US</td>\n",
       "      <td>United States</td>\n",
       "      <td>37.44001</td>\n",
       "      <td>-122.15667</td>\n",
       "      <td>t</td>\n",
       "      <td>Villa</td>\n",
       "      <td>Private room</td>\n",
       "      <td>1</td>\n",
       "      <td>2.0</td>\n",
       "      <td>1.0</td>\n",
       "      <td>1.0</td>\n",
       "      <td>Real Bed</td>\n",
       "      <td>{TV,\"Cable TV\",Internet,Wifi,Kitchen,\"Paid par...</td>\n",
       "      <td>NaN</td>\n",
       "      <td>$99.00</td>\n",
       "      <td>$600.00</td>\n",
       "      <td>$2,000.00</td>\n",
       "      <td>$0.00</td>\n",
       "      <td>$35.00</td>\n",
       "      <td>1</td>\n",
       "      <td>$50.00</td>\n",
       "      <td>2</td>\n",
       "      <td>730</td>\n",
       "      <td>2</td>\n",
       "      <td>2</td>\n",
       "      <td>730</td>\n",
       "      <td>730</td>\n",
       "      <td>2.0</td>\n",
       "      <td>730.0</td>\n",
       "      <td>3 weeks ago</td>\n",
       "      <td>t</td>\n",
       "      <td>0</td>\n",
       "      <td>0</td>\n",
       "      <td>0</td>\n",
       "      <td>212</td>\n",
       "      <td>2020-05-30</td>\n",
       "      <td>264</td>\n",
       "      <td>39</td>\n",
       "      <td>2010-05-28</td>\n",
       "      <td>2020-03-14</td>\n",
       "      <td>97.0</td>\n",
       "      <td>10.0</td>\n",
       "      <td>10.0</td>\n",
       "      <td>10.0</td>\n",
       "      <td>10.0</td>\n",
       "      <td>10.0</td>\n",
       "      <td>10.0</td>\n",
       "      <td>f</td>\n",
       "      <td>NaN</td>\n",
       "      <td>{\"PALO ALTO\"}</td>\n",
       "      <td>f</td>\n",
       "      <td>f</td>\n",
       "      <td>moderate</td>\n",
       "      <td>f</td>\n",
       "      <td>f</td>\n",
       "      <td>5</td>\n",
       "      <td>0</td>\n",
       "      <td>5</td>\n",
       "      <td>0</td>\n",
       "      <td>2.17</td>\n",
       "    </tr>\n",
       "    <tr>\n",
       "      <th>4</th>\n",
       "      <td>37512</td>\n",
       "      <td>https://www.airbnb.com/rooms/37512</td>\n",
       "      <td>20200530151957</td>\n",
       "      <td>2020-05-31</td>\n",
       "      <td>Private  room - Parking 3 carport</td>\n",
       "      <td>We live in a safe community close to public tr...</td>\n",
       "      <td>I have a really nice room in a quiet neighborh...</td>\n",
       "      <td>We live in a safe community close to public tr...</td>\n",
       "      <td>none</td>\n",
       "      <td>Our community is a safe environment and at nig...</td>\n",
       "      <td>Please remember that you are in my home and re...</td>\n",
       "      <td>We have a bus stop right outside our community...</td>\n",
       "      <td>The kitchen and all that it offers.  The laund...</td>\n",
       "      <td>We follow our guests lead when it comes to soc...</td>\n",
       "      <td>No drunk and disorderly conduct please.  You m...</td>\n",
       "      <td>NaN</td>\n",
       "      <td>NaN</td>\n",
       "      <td>https://a0.muscache.com/im/pictures/47698055/3...</td>\n",
       "      <td>NaN</td>\n",
       "      <td>161741</td>\n",
       "      <td>https://www.airbnb.com/users/show/161741</td>\n",
       "      <td>Maria</td>\n",
       "      <td>2010-07-09</td>\n",
       "      <td>San Jose, California, United States</td>\n",
       "      <td>I am in a committed relationship with my live...</td>\n",
       "      <td>within a few hours</td>\n",
       "      <td>100%</td>\n",
       "      <td>100%</td>\n",
       "      <td>t</td>\n",
       "      <td>https://a0.muscache.com/im/users/161741/profil...</td>\n",
       "      <td>https://a0.muscache.com/im/users/161741/profil...</td>\n",
       "      <td>South San Jose</td>\n",
       "      <td>2.0</td>\n",
       "      <td>2.0</td>\n",
       "      <td>['email', 'phone', 'facebook', 'reviews', 'man...</td>\n",
       "      <td>t</td>\n",
       "      <td>t</td>\n",
       "      <td>San Jose, CA, United States</td>\n",
       "      <td>South San Jose</td>\n",
       "      <td>San Jose</td>\n",
       "      <td>NaN</td>\n",
       "      <td>San Jose</td>\n",
       "      <td>CA</td>\n",
       "      <td>95111</td>\n",
       "      <td>South Bay, CA</td>\n",
       "      <td>San Jose, CA</td>\n",
       "      <td>US</td>\n",
       "      <td>United States</td>\n",
       "      <td>37.30598</td>\n",
       "      <td>-121.84036</td>\n",
       "      <td>t</td>\n",
       "      <td>Bungalow</td>\n",
       "      <td>Private room</td>\n",
       "      <td>2</td>\n",
       "      <td>1.0</td>\n",
       "      <td>1.0</td>\n",
       "      <td>1.0</td>\n",
       "      <td>Real Bed</td>\n",
       "      <td>{Internet,Wifi,\"Air conditioning\",Kitchen,\"Fre...</td>\n",
       "      <td>NaN</td>\n",
       "      <td>$52.00</td>\n",
       "      <td>$393.00</td>\n",
       "      <td>$1,386.00</td>\n",
       "      <td>NaN</td>\n",
       "      <td>NaN</td>\n",
       "      <td>1</td>\n",
       "      <td>$0.00</td>\n",
       "      <td>1</td>\n",
       "      <td>7</td>\n",
       "      <td>1</td>\n",
       "      <td>1</td>\n",
       "      <td>7</td>\n",
       "      <td>7</td>\n",
       "      <td>1.0</td>\n",
       "      <td>7.0</td>\n",
       "      <td>23 months ago</td>\n",
       "      <td>t</td>\n",
       "      <td>0</td>\n",
       "      <td>0</td>\n",
       "      <td>28</td>\n",
       "      <td>303</td>\n",
       "      <td>2020-05-31</td>\n",
       "      <td>183</td>\n",
       "      <td>0</td>\n",
       "      <td>2010-08-01</td>\n",
       "      <td>2017-03-14</td>\n",
       "      <td>94.0</td>\n",
       "      <td>9.0</td>\n",
       "      <td>10.0</td>\n",
       "      <td>10.0</td>\n",
       "      <td>10.0</td>\n",
       "      <td>9.0</td>\n",
       "      <td>9.0</td>\n",
       "      <td>f</td>\n",
       "      <td>NaN</td>\n",
       "      <td>{\"SAN JOSE\"}</td>\n",
       "      <td>f</td>\n",
       "      <td>f</td>\n",
       "      <td>moderate</td>\n",
       "      <td>t</td>\n",
       "      <td>t</td>\n",
       "      <td>2</td>\n",
       "      <td>0</td>\n",
       "      <td>2</td>\n",
       "      <td>0</td>\n",
       "      <td>1.53</td>\n",
       "    </tr>\n",
       "  </tbody>\n",
       "</table>\n",
       "</div>"
      ],
      "text/plain": [
       "      id                         listing_url       scrape_id last_scraped  \\\n",
       "0   4952   https://www.airbnb.com/rooms/4952  20200530151957   2020-05-30   \n",
       "1  11464  https://www.airbnb.com/rooms/11464  20200530151957   2020-05-31   \n",
       "2  17884  https://www.airbnb.com/rooms/17884  20200530151957   2020-05-31   \n",
       "3  21373  https://www.airbnb.com/rooms/21373  20200530151957   2020-05-30   \n",
       "4  37512  https://www.airbnb.com/rooms/37512  20200530151957   2020-05-31   \n",
       "\n",
       "                                  name  \\\n",
       "0    Butterfly Inn - Graceful Living !   \n",
       "1    Deluxe Private Studio-custom int.   \n",
       "2                 Silicon Valley Suite   \n",
       "3  Bonsai Garden Inn in Professorville   \n",
       "4    Private  room - Parking 3 carport   \n",
       "\n",
       "                                             summary  \\\n",
       "0  Lovely garden setting in a serene and art-fill...   \n",
       "1  Custom built Studio with exquisite design. Rea...   \n",
       "2  A guest suite for one or two, in a house in a ...   \n",
       "3  Room  in gracious home with beautiful garden. ...   \n",
       "4  We live in a safe community close to public tr...   \n",
       "\n",
       "                                               space  \\\n",
       "0  Very comfortable Queen bed and small desk in b...   \n",
       "1  Description A favorite for international corpo...   \n",
       "2  This is a private suite at the rear of a house...   \n",
       "3  Bright, garden-facing room in beautiful home. ...   \n",
       "4  I have a really nice room in a quiet neighborh...   \n",
       "\n",
       "                                         description experiences_offered  \\\n",
       "0  Lovely garden setting in a serene and art-fill...                none   \n",
       "1  Custom built Studio with exquisite design. Rea...                none   \n",
       "2  A guest suite for one or two, in a house in a ...                none   \n",
       "3  Room  in gracious home with beautiful garden. ...                none   \n",
       "4  We live in a safe community close to public tr...                none   \n",
       "\n",
       "                               neighborhood_overview  \\\n",
       "0  Located in Professorville, Palo Alto, one of t...   \n",
       "1  10 min. to Lucky's and Starbucks at El Camino ...   \n",
       "2  This is a very quiet family neighborhood, but ...   \n",
       "3  This room is in an ultra convenient location i...   \n",
       "4  Our community is a safe environment and at nig...   \n",
       "\n",
       "                                               notes  \\\n",
       "0  Housekeeping every Monday, leave your door ope...   \n",
       "1  Pet Policy: - Well Behaved pet up to 25 lb. of...   \n",
       "2  I cannot accommodate cats, sorry. I can usuall...   \n",
       "3  The family room has a flat panel tv and desk f...   \n",
       "4  Please remember that you are in my home and re...   \n",
       "\n",
       "                                             transit  \\\n",
       "0  Walking distance to Stanford University (30 mi...   \n",
       "1  Public transportation at Homestead and Pomeroy...   \n",
       "2  The CalTrain station is in walking distance, a...   \n",
       "3  The Stanford Shopping Center is 20 minutes wal...   \n",
       "4  We have a bus stop right outside our community...   \n",
       "\n",
       "                                              access  \\\n",
       "0  Kitchen, laundry, family/TV room, garden, free...   \n",
       "1          Complimentary Wifi-internet + Basic Cable   \n",
       "2  Private outdoor patio. Shared washer/dryer on ...   \n",
       "3  Kitchen, Laundry, Garden, Family Room with TV,...   \n",
       "4  The kitchen and all that it offers.  The laund...   \n",
       "\n",
       "                                         interaction  \\\n",
       "0  Welcome and Orientation. Shared kitchen, garde...   \n",
       "1  Available any time for support and problem res...   \n",
       "2  I am usually in town.  Guests have a private e...   \n",
       "3  We will see you everyday as we cook meals in t...   \n",
       "4  We follow our guests lead when it comes to soc...   \n",
       "\n",
       "                                         house_rules  thumbnail_url  \\\n",
       "0  No shoes in the house beyond the hall or laund...            NaN   \n",
       "1  Can house a couple- bed type is a full size be...            NaN   \n",
       "2  This is a quiet neighborhood, and the suite sh...            NaN   \n",
       "3  No shoes in the house beyond hall or laundry. ...            NaN   \n",
       "4  No drunk and disorderly conduct please.  You m...            NaN   \n",
       "\n",
       "   medium_url                                        picture_url  \\\n",
       "0         NaN  https://a0.muscache.com/im/pictures/529448/3d7...   \n",
       "1         NaN  https://a0.muscache.com/im/pictures/121321/2c5...   \n",
       "2         NaN  https://a0.muscache.com/im/pictures/08c0f0aa-3...   \n",
       "3         NaN  https://a0.muscache.com/im/pictures/527285/0f9...   \n",
       "4         NaN  https://a0.muscache.com/im/pictures/47698055/3...   \n",
       "\n",
       "   xl_picture_url  host_id                                  host_url  \\\n",
       "0             NaN     7054    https://www.airbnb.com/users/show/7054   \n",
       "1             NaN    42458   https://www.airbnb.com/users/show/42458   \n",
       "2             NaN    69023   https://www.airbnb.com/users/show/69023   \n",
       "3             NaN     7054    https://www.airbnb.com/users/show/7054   \n",
       "4             NaN   161741  https://www.airbnb.com/users/show/161741   \n",
       "\n",
       "  host_name  host_since                             host_location  \\\n",
       "0   Mei Lin  2009-01-24      Palo Alto, California, United States   \n",
       "1      Emey  2009-09-30  Mountain View, California, United States   \n",
       "2     Janet  2010-01-08        Lynn Haven, Florida, United States   \n",
       "3   Mei Lin  2009-01-24      Palo Alto, California, United States   \n",
       "4     Maria  2010-07-09       San Jose, California, United States   \n",
       "\n",
       "                                          host_about  host_response_time  \\\n",
       "0  I have lived and worked in Asia, Europe, Austr...      within an hour   \n",
       "1  I pride myself on attention to details and cus...      within an hour   \n",
       "2  I am a software engineer, recently retired fro...        within a day   \n",
       "3  I have lived and worked in Asia, Europe, Austr...      within an hour   \n",
       "4   I am in a committed relationship with my live...  within a few hours   \n",
       "\n",
       "  host_response_rate host_acceptance_rate host_is_superhost  \\\n",
       "0               100%                  98%                 t   \n",
       "1               100%                  90%                 f   \n",
       "2               100%                  50%                 f   \n",
       "3               100%                  98%                 t   \n",
       "4               100%                 100%                 t   \n",
       "\n",
       "                                  host_thumbnail_url  \\\n",
       "0  https://a0.muscache.com/im/users/7054/profile_...   \n",
       "1  https://a0.muscache.com/im/users/42458/profile...   \n",
       "2  https://a0.muscache.com/im/users/69023/profile...   \n",
       "3  https://a0.muscache.com/im/users/7054/profile_...   \n",
       "4  https://a0.muscache.com/im/users/161741/profil...   \n",
       "\n",
       "                                    host_picture_url host_neighbourhood  \\\n",
       "0  https://a0.muscache.com/im/users/7054/profile_...          Palo Alto   \n",
       "1  https://a0.muscache.com/im/users/42458/profile...        Santa Clara   \n",
       "2  https://a0.muscache.com/im/users/69023/profile...          Palo Alto   \n",
       "3  https://a0.muscache.com/im/users/7054/profile_...          Palo Alto   \n",
       "4  https://a0.muscache.com/im/users/161741/profil...     South San Jose   \n",
       "\n",
       "   host_listings_count  host_total_listings_count  \\\n",
       "0                  5.0                        5.0   \n",
       "1                 13.0                       13.0   \n",
       "2                  2.0                        2.0   \n",
       "3                  5.0                        5.0   \n",
       "4                  2.0                        2.0   \n",
       "\n",
       "                                  host_verifications host_has_profile_pic  \\\n",
       "0  ['email', 'phone', 'reviews', 'jumio', 'offlin...                    t   \n",
       "1                      ['email', 'phone', 'reviews']                    t   \n",
       "2               ['email', 'phone', 'reviews', 'kba']                    t   \n",
       "3  ['email', 'phone', 'reviews', 'jumio', 'offlin...                    t   \n",
       "4  ['email', 'phone', 'facebook', 'reviews', 'man...                    t   \n",
       "\n",
       "  host_identity_verified                            street   neighbourhood  \\\n",
       "0                      f      Palo Alto, CA, United States       Palo Alto   \n",
       "1                      f    Santa Clara, CA, United States     Santa Clara   \n",
       "2                      t  Mountain View, CA, United States   Mountain View   \n",
       "3                      f      Palo Alto, CA, United States       Palo Alto   \n",
       "4                      t       San Jose, CA, United States  South San Jose   \n",
       "\n",
       "  neighbourhood_cleansed  neighbourhood_group_cleansed           city state  \\\n",
       "0              Palo Alto                           NaN      Palo Alto    CA   \n",
       "1            Santa Clara                           NaN    Santa Clara    CA   \n",
       "2          Mountain View                           NaN  Mountain View    CA   \n",
       "3              Palo Alto                           NaN      Palo Alto    CA   \n",
       "4               San Jose                           NaN       San Jose    CA   \n",
       "\n",
       "  zipcode         market     smart_location country_code        country  \\\n",
       "0   94301  South Bay, CA      Palo Alto, CA           US  United States   \n",
       "1   95051  South Bay, CA    Santa Clara, CA           US  United States   \n",
       "2   94041  South Bay, CA  Mountain View, CA           US  United States   \n",
       "3   94301  South Bay, CA      Palo Alto, CA           US  United States   \n",
       "4   95111  South Bay, CA       San Jose, CA           US  United States   \n",
       "\n",
       "   latitude  longitude is_location_exact property_type        room_type  \\\n",
       "0  37.43972 -122.15672                 t         Villa     Private room   \n",
       "1  37.34342 -121.98829                 t     Apartment  Entire home/apt   \n",
       "2  37.38612 -122.07357                 t   Guest suite  Entire home/apt   \n",
       "3  37.44001 -122.15667                 t         Villa     Private room   \n",
       "4  37.30598 -121.84036                 t      Bungalow     Private room   \n",
       "\n",
       "   accommodates  bathrooms  bedrooms  beds  bed_type  \\\n",
       "0             2        2.0       1.0   1.0  Real Bed   \n",
       "1             1        1.0       NaN   1.0  Real Bed   \n",
       "2             2        1.0       1.0   1.0  Real Bed   \n",
       "3             1        2.0       1.0   1.0  Real Bed   \n",
       "4             2        1.0       1.0   1.0  Real Bed   \n",
       "\n",
       "                                           amenities  square_feet   price  \\\n",
       "0  {TV,\"Cable TV\",Internet,Wifi,Kitchen,Heating,W...          NaN  $90.00   \n",
       "1  {TV,\"Cable TV\",Internet,Wifi,\"Air conditioning...        325.0  $85.00   \n",
       "2  {TV,\"Cable TV\",Internet,Wifi,\"Air conditioning...          NaN  $65.00   \n",
       "3  {TV,\"Cable TV\",Internet,Wifi,Kitchen,\"Paid par...          NaN  $99.00   \n",
       "4  {Internet,Wifi,\"Air conditioning\",Kitchen,\"Fre...          NaN  $52.00   \n",
       "\n",
       "  weekly_price monthly_price security_deposit cleaning_fee  guests_included  \\\n",
       "0      $440.00     $1,428.00            $0.00       $35.00                1   \n",
       "1          NaN     $2,100.00          $700.00      $250.00                1   \n",
       "2    $1,400.00     $2,800.00        $1,000.00          NaN                1   \n",
       "3      $600.00     $2,000.00            $0.00       $35.00                1   \n",
       "4      $393.00     $1,386.00              NaN          NaN                1   \n",
       "\n",
       "  extra_people  minimum_nights  maximum_nights  minimum_minimum_nights  \\\n",
       "0       $45.00               2             365                       2   \n",
       "1       $10.00              14             365                      14   \n",
       "2        $0.00              30             180                      30   \n",
       "3       $50.00               2             730                       2   \n",
       "4        $0.00               1               7                       1   \n",
       "\n",
       "   maximum_minimum_nights  minimum_maximum_nights  maximum_maximum_nights  \\\n",
       "0                       2                     365                     365   \n",
       "1                      14                     365                     365   \n",
       "2                      30                     180                     180   \n",
       "3                       2                     730                     730   \n",
       "4                       1                       7                       7   \n",
       "\n",
       "   minimum_nights_avg_ntm  maximum_nights_avg_ntm calendar_updated  \\\n",
       "0                     2.0                   365.0     2 months ago   \n",
       "1                    14.0                   365.0     5 months ago   \n",
       "2                    30.0                   180.0      4 weeks ago   \n",
       "3                     2.0                   730.0      3 weeks ago   \n",
       "4                     1.0                     7.0    23 months ago   \n",
       "\n",
       "  has_availability  availability_30  availability_60  availability_90  \\\n",
       "0                t                0                0                0   \n",
       "1                t               30               60               90   \n",
       "2                t               29               59               89   \n",
       "3                t                0                0                0   \n",
       "4                t                0                0               28   \n",
       "\n",
       "   availability_365 calendar_last_scraped  number_of_reviews  \\\n",
       "0                 0            2020-05-30                 75   \n",
       "1               179            2020-05-31                  6   \n",
       "2               179            2020-05-31                  2   \n",
       "3               212            2020-05-30                264   \n",
       "4               303            2020-05-31                183   \n",
       "\n",
       "   number_of_reviews_ltm first_review last_review  review_scores_rating  \\\n",
       "0                      0   2009-08-02  2019-01-12                  96.0   \n",
       "1                      1   2014-06-15  2019-10-11                  87.0   \n",
       "2                      0   2018-11-20  2019-04-27                  90.0   \n",
       "3                     39   2010-05-28  2020-03-14                  97.0   \n",
       "4                      0   2010-08-01  2017-03-14                  94.0   \n",
       "\n",
       "   review_scores_accuracy  review_scores_cleanliness  review_scores_checkin  \\\n",
       "0                    10.0                       10.0                   10.0   \n",
       "1                    10.0                       10.0                   10.0   \n",
       "2                     8.0                       10.0                   10.0   \n",
       "3                    10.0                       10.0                   10.0   \n",
       "4                     9.0                       10.0                   10.0   \n",
       "\n",
       "   review_scores_communication  review_scores_location  review_scores_value  \\\n",
       "0                         10.0                    10.0                 10.0   \n",
       "1                          9.0                     9.0                  9.0   \n",
       "2                         10.0                    10.0                 10.0   \n",
       "3                         10.0                    10.0                 10.0   \n",
       "4                         10.0                     9.0                  9.0   \n",
       "\n",
       "  requires_license  license       jurisdiction_names instant_bookable  \\\n",
       "0                f      NaN            {\"PALO ALTO\"}                f   \n",
       "1                f      NaN          {\"SANTA CLARA\"}                f   \n",
       "2                f      NaN  {\"Mountain View\",\" CA\"}                f   \n",
       "3                f      NaN            {\"PALO ALTO\"}                f   \n",
       "4                f      NaN             {\"SAN JOSE\"}                f   \n",
       "\n",
       "  is_business_travel_ready          cancellation_policy  \\\n",
       "0                        f                     moderate   \n",
       "1                        f                     moderate   \n",
       "2                        f  strict_14_with_grace_period   \n",
       "3                        f                     moderate   \n",
       "4                        f                     moderate   \n",
       "\n",
       "  require_guest_profile_picture require_guest_phone_verification  \\\n",
       "0                             f                                f   \n",
       "1                             f                                t   \n",
       "2                             f                                f   \n",
       "3                             f                                f   \n",
       "4                             t                                t   \n",
       "\n",
       "   calculated_host_listings_count  \\\n",
       "0                               5   \n",
       "1                              12   \n",
       "2                               2   \n",
       "3                               5   \n",
       "4                               2   \n",
       "\n",
       "   calculated_host_listings_count_entire_homes  \\\n",
       "0                                            0   \n",
       "1                                           12   \n",
       "2                                            2   \n",
       "3                                            0   \n",
       "4                                            0   \n",
       "\n",
       "   calculated_host_listings_count_private_rooms  \\\n",
       "0                                             5   \n",
       "1                                             0   \n",
       "2                                             0   \n",
       "3                                             5   \n",
       "4                                             2   \n",
       "\n",
       "   calculated_host_listings_count_shared_rooms  reviews_per_month  \n",
       "0                                            0               0.57  \n",
       "1                                            0               0.08  \n",
       "2                                            0               0.11  \n",
       "3                                            0               2.17  \n",
       "4                                            0               1.53  "
      ]
     },
     "execution_count": 5,
     "metadata": {},
     "output_type": "execute_result"
    }
   ],
   "source": [
    "ab_df.head(5)"
   ]
  },
  {
   "cell_type": "markdown",
   "id": "24092027-8a00-4244-976c-0c6e9d1e98e9",
   "metadata": {},
   "source": [
    "### Dropping columns containing ids"
   ]
  },
  {
   "cell_type": "code",
   "execution_count": 6,
   "id": "9d9f5882",
   "metadata": {
    "id": "9d9f5882"
   },
   "outputs": [],
   "source": [
    "drop = [\"id\",\"last_scraped\", \"scrape_id\", \"host_id\"]\n",
    "for col in drop:\n",
    "    \n",
    "    ab_df.drop(col, axis = 1, inplace = True )\n",
    "    \n"
   ]
  },
  {
   "cell_type": "code",
   "execution_count": 7,
   "id": "c993837f",
   "metadata": {
    "id": "c993837f",
    "outputId": "8c52e951-d817-4dbf-ab48-c16be9e587ae"
   },
   "outputs": [
    {
     "data": {
      "text/plain": [
       "0    $90.00\n",
       "1    $85.00\n",
       "2    $65.00\n",
       "Name: price, dtype: object"
      ]
     },
     "execution_count": 7,
     "metadata": {},
     "output_type": "execute_result"
    }
   ],
   "source": [
    "ab_df[\"price\"].head(3)"
   ]
  },
  {
   "cell_type": "markdown",
   "id": "db2e37b0-e7f8-4269-94ce-e5f17e5c6ee1",
   "metadata": {},
   "source": [
    "### Converting price from string to float"
   ]
  },
  {
   "cell_type": "code",
   "execution_count": 8,
   "id": "c571535d",
   "metadata": {
    "id": "c571535d"
   },
   "outputs": [],
   "source": [
    "pattern = r'[^\\d\\.]'\n",
    "ab_df[\"price\"] = ab_df[\"price\"].replace({pattern: ''}, regex=True).replace(r'^\\s*$', np.nan, regex=True).astype(float)"
   ]
  },
  {
   "cell_type": "code",
   "execution_count": 9,
   "id": "012dc82e",
   "metadata": {
    "id": "012dc82e",
    "outputId": "0a8586f1-b209-4f92-f02d-6daacb9c207d"
   },
   "outputs": [
    {
     "data": {
      "text/plain": [
       "count     7221.000000\n",
       "mean       161.287079\n",
       "std        352.069000\n",
       "min         10.000000\n",
       "25%         60.000000\n",
       "50%        100.000000\n",
       "75%        175.000000\n",
       "max      10000.000000\n",
       "Name: price, dtype: float64"
      ]
     },
     "execution_count": 9,
     "metadata": {},
     "output_type": "execute_result"
    }
   ],
   "source": [
    "ab_df[\"price\"].describe()"
   ]
  },
  {
   "cell_type": "code",
   "execution_count": 10,
   "id": "0d614d19",
   "metadata": {
    "id": "0d614d19",
    "outputId": "03b6822f-5404-42e9-8ecb-093a3b00b9d7"
   },
   "outputs": [
    {
     "name": "stdout",
     "output_type": "stream",
     "text": [
      "17.904923957648805\n"
     ]
    }
   ],
   "source": [
    "# Check the skewness again\n",
    "from scipy.stats import skew\n",
    "skewness = skew(ab_df['price'])\n",
    "print(skewness)"
   ]
  },
  {
   "cell_type": "markdown",
   "id": "2888be4b",
   "metadata": {
    "id": "2888be4b"
   },
   "source": [
    "### Highly skewed target varaible. We need to deal with it to strategise a split strategy."
   ]
  },
  {
   "cell_type": "code",
   "execution_count": 11,
   "id": "255a94e0",
   "metadata": {
    "id": "255a94e0",
    "outputId": "9ecdc175-c2de-4399-cb32-496078448ade"
   },
   "outputs": [
    {
     "name": "stdout",
     "output_type": "stream",
     "text": [
      "0.8203765563935524\n"
     ]
    }
   ],
   "source": [
    "# Perform logarithmic transformation\n",
    "from scipy.stats import skew\n",
    "ab_df['price'] = np.log1p(ab_df['price'])\n",
    "\n",
    "# Check the skewness again\n",
    "skewness = skew(ab_df['price'])\n",
    "print(skewness)"
   ]
  },
  {
   "cell_type": "raw",
   "id": "54ef2900-692b-4709-bb0f-c10144d3df09",
   "metadata": {
    "id": "38b2bd1d"
   },
   "source": [
    "# import numpy as np\n",
    "# from sklearn.model_selection import train_test_split\n",
    "\n",
    "# # # Compute logarithm of price values\n",
    "# # log_price = np.log(ab_df[\"price\"])\n",
    "# price = ab_df[\"price\"]\n",
    "# # Define quantiles for stratified sampling\n",
    "# quantiles = price.quantile([0.25, 0.5, 0.75]).values\n",
    "\n",
    "# # Assign each data point to a quantile\n",
    "# quantile_labels = np.zeros(len(ab_df), dtype=int)\n",
    "# quantile_labels[price <= quantiles[0]] = 0\n",
    "# quantile_labels[(price > quantiles[0]) & (price <= quantiles[1])] = 1\n",
    "# quantile_labels[(price > quantiles[1]) & (price <= quantiles[2])] = 2\n",
    "# quantile_labels[price > quantiles[2]] = 3\n",
    "\n",
    "# # Split the data using stratified sampling based on quantiles\n",
    "# train_data, test_data, train_labels, test_labels = train_test_split(ab_df, quantile_labels, test_size=0.2, stratify=quantile_labels, random_state=42)"
   ]
  },
  {
   "cell_type": "code",
   "execution_count": 12,
   "id": "a4dd7553",
   "metadata": {
    "id": "a4dd7553"
   },
   "outputs": [],
   "source": [
    "import numpy as np\n",
    "from sklearn.model_selection import train_test_split\n",
    "\n",
    "# Define quantiles for stratified sampling\n",
    "quantiles = ab_df[\"price\"].quantile([0.25, 0.5, 0.75]).values\n",
    "\n",
    "# Assign each data point to a quantile\n",
    "quantile_labels = np.zeros(len(ab_df), dtype=int)\n",
    "quantile_labels[ab_df[\"price\"] <= quantiles[0]] = 0\n",
    "quantile_labels[(ab_df[\"price\"] > quantiles[0]) & (ab_df[\"price\"] <= quantiles[1])] = 1\n",
    "quantile_labels[(ab_df[\"price\"] > quantiles[1]) & (ab_df[\"price\"] <= quantiles[2])] = 2\n",
    "quantile_labels[ab_df[\"price\"] > quantiles[2]] = 3\n",
    "\n",
    "# Split the data using stratified sampling based on quantiles\n",
    "dev_data, test_data, train_labels, dev_labels = train_test_split(ab_df, quantile_labels, test_size=0.2, stratify=quantile_labels, random_state=42)\n"
   ]
  },
  {
   "cell_type": "code",
   "execution_count": 13,
   "id": "7de8f395",
   "metadata": {
    "id": "7de8f395",
    "outputId": "4ce48d8f-62dd-4db1-9155-22ff97a21682"
   },
   "outputs": [
    {
     "data": {
      "text/plain": [
       "pandas.core.indexes.base.Index"
      ]
     },
     "execution_count": 13,
     "metadata": {},
     "output_type": "execute_result"
    }
   ],
   "source": [
    "type(ab_df.columns)"
   ]
  },
  {
   "cell_type": "code",
   "execution_count": 14,
   "id": "64b7ed9c",
   "metadata": {
    "id": "64b7ed9c",
    "outputId": "9e937b7d-4030-43c0-df73-f8837b72a95a"
   },
   "outputs": [
    {
     "name": "stdout",
     "output_type": "stream",
     "text": [
      "0.7851925668219043\n"
     ]
    }
   ],
   "source": [
    "# Check the skewness again\n",
    "skewness = skew(test_data['price'])\n",
    "print(skewness)"
   ]
  },
  {
   "cell_type": "markdown",
   "id": "e0d48877-8d35-4cf0-9901-a232b334afc3",
   "metadata": {},
   "source": [
    "### Preprocessing steps"
   ]
  },
  {
   "cell_type": "code",
   "execution_count": 21,
   "id": "9060e4be",
   "metadata": {
    "id": "9060e4be"
   },
   "outputs": [],
   "source": [
    "import pandas as pd\n",
    "import numpy as np\n",
    "\n",
    "def get_object_cols(df):\n",
    "    \"\"\"Returns a list of columns that have 'object' dtype in the input dataframe.\"\"\"\n",
    "    return df.select_dtypes(include='object').columns.tolist()\n",
    "\n",
    "def get_cols_with_numerical_values(df, object_cols):\n",
    "    \"\"\"Returns a list of columns that have numerical values in the input dataframe.\"\"\"\n",
    "    pattern = r'^[-+]?[$]?\\d+(?:,\\d{3})*(\\.\\d+)?%?|[$]?\\d+(?:,\\d{3})*[-+]?%?$'\n",
    "    numerical_cols = []\n",
    "    for col in object_cols:\n",
    "        if df[col].str.match(pattern).any():\n",
    "            numerical_cols.append(col)\n",
    "    return numerical_cols\n",
    "\n",
    "def get_needed_num_dollar_cols(numerical_cols):\n",
    "    \n",
    "    dollar_and_rate_col = [\"host_response_rate\", \"host_acceptance_rate\",\"zipcode\",\n",
    "                           \"weekly_price\",\"monthly_price\",\n",
    "                      \"security_deposit\", \"cleaning_fee\", \"extra_people\"]\n",
    "    return dollar_and_rate_col\n",
    "\n",
    "def remove_dollar_and_rate_sign(df, cols):\n",
    "    \"\"\"Removes dollar and percentage signs from the input columns in the dataframe.\"\"\"\n",
    "    for col in cols:\n",
    "        df[col] = df[col].str.replace('$', '', regex=True).str.replace('%', '', regex=True)\n",
    "    \n",
    "    return df\n",
    "\n",
    "def convert_to_float(df, cols):\n",
    "    \"\"\"Converts the input columns in the dataframe to float dtype.\"\"\"\n",
    "    pattern = r'[^\\d\\.]'\n",
    "    df[cols] = df[cols].replace({pattern: ''}, regex=True).replace(r'^\\s*$', np.nan, regex=True).astype(float)\n",
    "    \n",
    "    return df\n",
    "\n",
    "def get_categorical_cols(dev_df, test_df):\n",
    "    \"\"\"Returns a list of columns that have less than or equal to 145 unique values and have object dtype in the input dataframe.\"\"\"\n",
    "    data_types = dev_df.dtypes\n",
    "    cat_cols = data_types[data_types == object].index.tolist()\n",
    "    rest_cols = data_types[data_types != object].index.tolist()\n",
    "    categorical_cols = []\n",
    "    rest_col = []\n",
    "    for col in cat_cols:\n",
    "        num_unique = dev_df[col].nunique()\n",
    "        if num_unique != 1 and num_unique <= 145:\n",
    "            categorical_cols.append(col)\n",
    "        else:\n",
    "#             print(col)\n",
    "            dev_df.drop(col, axis=1, inplace=True)\n",
    "            test_df.drop(col, axis=1, inplace=True)\n",
    "#     print(\"passed this step\")       \n",
    "    for col in rest_cols:\n",
    "\n",
    "        num_unique = dev_df[col].nunique()\n",
    "        if num_unique <= 50:          \n",
    "            categorical_cols.append(col)  \n",
    "            rest_col.append(col) \n",
    "    return categorical_cols, rest_col\n",
    "\n",
    "def convert_to_category(df, cols):\n",
    "    \"\"\"Converts the input columns in the dataframe to category dtype.\"\"\"\n",
    "    for col in cols:\n",
    "        df[col] = df[col].astype('category')\n",
    "\n",
    "def get_numerical_cols(dev_df, test_df):\n",
    "    \"\"\"Returns a list of columns that have more than 2 unique values and have numerical dtype in the input dataframe.\"\"\"\n",
    "    numerical_cols = dev_df.loc[:, dev_df.dtypes != 'category'].columns.tolist()\n",
    "    for col in numerical_cols:\n",
    "        num_unique = dev_df[col].nunique()\n",
    "        if num_unique <= 2:\n",
    "            dev_df.drop(col, axis=1, inplace=True)\n",
    "            test_df.drop(col, axis=1, inplace=True)           \n",
    "    return numerical_cols\n",
    "\n",
    "def remove_cols_with_high_null_percentage(dev_df,test_df, threshold):\n",
    "    \"\"\"Removes columns from the input dataframe that have null percentage greater than the threshold.\"\"\"\n",
    "    all_cols = dev_df.columns.tolist()\n",
    "    for col in all_cols:\n",
    "        null_percentage = dev_df[col].isnull().mean() * 100\n",
    "        if null_percentage >= threshold:\n",
    "            dev_df.drop(col, axis=1, inplace=True)\n",
    "            test_df.drop(col, axis=1, inplace=True)\n",
    "\n",
    "def impute_null_values(dev_df, test_df):\n",
    "    \"\"\"Imputes null values in numerical and categorical columns less than 75% with the mean or mode respectively.\"\"\"\n",
    "    for col in dev_df.columns:\n",
    "        null_percentage = dev_df[col].isnull().mean() * 100\n",
    "        if null_percentage < 75:\n",
    "            if pd.api.types.is_numeric_dtype(dev_df[col]):\n",
    "                dev_df[col].fillna(dev_df[col].mean(), inplace=True)\n",
    "                test_df[col].fillna(dev_df[col].mean(), inplace=True)\n",
    "            else:\n",
    "                dev_df[col].fillna(dev_df[col].mode()[0], inplace=True)\n",
    "                test_df[col].fillna(dev_df[col].mode()[0], inplace=True)"
   ]
  },
  {
   "cell_type": "markdown",
   "id": "111e5984",
   "metadata": {
    "id": "111e5984"
   },
   "source": [
    "### The strategy for handling outliers in numerical columns is to replace values above the 99th percentile with the 99th percentile value. This is done using the quantile() method to calculate the 99th percentile and then using np.where() to replace any values above this percentile with the 99th percentile value.\n",
    "\n",
    "### For categorical columns, the strategy is to replace outliers with the most common category. This is done by calculating the value counts of each category using the value_counts() method and checking if the most common category has a frequency of over 90%. If it does, any categories that are not the most common are replaced with the most common category using np.where()."
   ]
  },
  {
   "cell_type": "code",
   "execution_count": 22,
   "id": "35467d57",
   "metadata": {
    "id": "35467d57"
   },
   "outputs": [],
   "source": [
    "import pandas as pd\n",
    "import numpy as np\n",
    "\n",
    "def handle_outliers(df, dev_df, test_df, numerical_cols, categorical_cols):\n",
    "    \"\"\"\n",
    "    Handles outliers in both numerical and categorical columns.\n",
    "    \n",
    "    Replaces numerical outliers with the 99th percentile value and categorical outliers\n",
    "    with the most common category.\n",
    "    \n",
    "    Args:\n",
    "        dataframe: Input pandas DataFrame.\n",
    "    \n",
    "    Returns:\n",
    "        The input DataFrame with outliers handled.\n",
    "    \"\"\"\n",
    "    \n",
    "    # Check numerical columns for outliers\n",
    "    for col in numerical_cols:\n",
    "        q99 = df[col].quantile(0.99)\n",
    "        df[col] = np.where(df[col] > q99, q99, df[col])\n",
    "        dev_df[col] = np.where(dev_df[col] > q99, q99, dev_df[col])\n",
    "        test_df[col] = np.where(test_df[col] > q99, q99, test_df[col])\n",
    "    \n",
    "    # Check categorical columns for outliers\n",
    "    for col in categorical_cols:\n",
    "        vc = df[col].value_counts(normalize=True, dropna=False)\n",
    "        if len(vc) > 1 and vc.iloc[0] > 0.9:\n",
    "            df[col] = np.where(df[col].isin([vc.index[0]]), df[col], vc.index[0])\n",
    "            dev_df[col] = np.where(dev_df[col].isin([vc.index[0]]), dev_df[col], vc.index[0])\n",
    "            test_df[col] = np.where(test_df[col].isin([vc.index[0]]), test_df[col], vc.index[0])\n",
    " \n",
    "    return df, dev_df, test_df"
   ]
  },
  {
   "cell_type": "code",
   "execution_count": 23,
   "id": "0bf79c6c",
   "metadata": {
    "id": "0bf79c6c"
   },
   "outputs": [],
   "source": [
    "from sklearn.preprocessing import StandardScaler\n",
    "def scale(dev_df, test_df):\n",
    "\n",
    "    # Fit the scaler on the training set\n",
    "    scaler = StandardScaler()\n",
    "    dev_df = scaler.fit_transform(dev_df)\n",
    "\n",
    "    # Use the same scaler to transform the dev and test set\n",
    "    test_df = scaler.transform(test_df)\n",
    "    \n",
    "\n",
    "    return dev_df, test_df"
   ]
  },
  {
   "cell_type": "code",
   "execution_count": 24,
   "id": "3ef844d5",
   "metadata": {
    "id": "3ef844d5"
   },
   "outputs": [],
   "source": [
    "def data_preprocess_transforms(df):\n",
    "    object_cols = get_object_cols(df)\n",
    "    numerical_cols = get_cols_with_numerical_values(df, object_cols)\n",
    "    dollar_and_rate_col= get_needed_num_dollar_cols(numerical_cols)\n",
    "    remove_dollar_and_rate_sign(df, dollar_and_rate_col)\n",
    "    convert_to_float(df, dollar_and_rate_col)\n",
    "    return df"
   ]
  },
  {
   "cell_type": "code",
   "execution_count": null,
   "id": "f1eaaff2-28b9-4159-8d0a-820c2b9b4310",
   "metadata": {},
   "outputs": [],
   "source": []
  },
  {
   "cell_type": "code",
   "execution_count": 25,
   "id": "bc618421-a4fb-447a-a5f8-0d5447b18268",
   "metadata": {
    "id": "66c9e0a8"
   },
   "outputs": [],
   "source": [
    "def data_preprocess(dev_df, test_df):\n",
    "    object_cols = get_object_cols(dev_df)\n",
    "    numerical_cols = get_cols_with_numerical_values(dev_df, object_cols)\n",
    "    dollar_and_rate_col= get_needed_num_dollar_cols(numerical_cols)\n",
    "    remove_dollar_and_rate_sign(dev_df, dollar_and_rate_col)\n",
    "    convert_to_float(dev_df, dollar_and_rate_col)\n",
    "    data_preprocess_transforms(test_df)\n",
    "        \n",
    "    remove_cols_with_high_null_percentage(dev_df,test_df, 75)\n",
    "    fix_null = impute_null_values(dev_df,test_df)\n",
    "    categorical_cols,rest_col = get_categorical_cols(dev_df,test_df)\n",
    "    convert_to_category(dev_df, categorical_cols)\n",
    "    convert_to_category(test_df, categorical_cols)\n",
    "    \n",
    "    numerical_cols = get_numerical_cols(dev_df,test_df)\n",
    "    scale(dev_df[numerical_cols],test_df[numerical_cols])\n",
    "\n",
    "    return dev_df,test_df, categorical_cols , numerical_cols, rest_col "
   ]
  },
  {
   "cell_type": "code",
   "execution_count": 26,
   "id": "42d951bc",
   "metadata": {
    "id": "42d951bc"
   },
   "outputs": [],
   "source": [
    "dev_data, test_data, categorical_cols, numerical_cols, rest_col  = data_preprocess(dev_data, test_data)\n"
   ]
  },
  {
   "cell_type": "code",
   "execution_count": 27,
   "id": "58a11e6f",
   "metadata": {
    "id": "58a11e6f",
    "outputId": "bc9d47e7-d381-4f58-d147-b6709be1a74a"
   },
   "outputs": [
    {
     "name": "stdout",
     "output_type": "stream",
     "text": [
      "dev (5776, 65)\n",
      "test (1445, 65)\n"
     ]
    }
   ],
   "source": [
    "print(\"dev\", dev_data.shape)\n",
    "print(\"test\", test_data.shape)"
   ]
  },
  {
   "cell_type": "markdown",
   "id": "3b731f4d-7b36-40f2-8325-2b5ba11ffd87",
   "metadata": {},
   "source": [
    "### Performing encoding of categorical variables"
   ]
  },
  {
   "cell_type": "code",
   "execution_count": 28,
   "id": "a494cbe2",
   "metadata": {
    "id": "a494cbe2",
    "outputId": "98a008cf-b8ab-4217-845d-933a15c7f639",
    "tags": []
   },
   "outputs": [
    {
     "name": "stderr",
     "output_type": "stream",
     "text": [
      "Found unknown categories in columns [0] during transform. These unknown categories will be encoded as all zeros\n",
      "Found unknown categories in columns [0] during transform. These unknown categories will be encoded as all zeros\n",
      "Found unknown categories in columns [0] during transform. These unknown categories will be encoded as all zeros\n",
      "Found unknown categories in columns [0] during transform. These unknown categories will be encoded as all zeros\n",
      "Found unknown categories in columns [0] during transform. These unknown categories will be encoded as all zeros\n",
      "Found unknown categories in columns [0] during transform. These unknown categories will be encoded as all zeros\n",
      "Found unknown categories in columns [0] during transform. These unknown categories will be encoded as all zeros\n"
     ]
    }
   ],
   "source": [
    "from sklearn.preprocessing import OrdinalEncoder, OneHotEncoder\n",
    "\n",
    "def encode_ordinal(dev_df, test_df, col):\n",
    "    \"\"\"Encode ordinal column using OrdinalEncoder from scikit-learn\"\"\"\n",
    "    encoder = OrdinalEncoder(handle_unknown='use_encoded_value', unknown_value=-1)\n",
    "    dev_df[[col]] = encoder.fit_transform(dev_df[[col]])\n",
    "    test_df[[col]] = encoder.transform(test_df[[col]])\n",
    "    return dev_df, test_df\n",
    "\n",
    "def encode_normal(dev_df, test_df, col):\n",
    "    \"\"\"Encode normal category column using OneHotEncoder from scikit-learn\"\"\"\n",
    "    encoder = OneHotEncoder(drop='first', sparse=False, handle_unknown='ignore')\n",
    "    encoder.fit(dev_df[[col]])\n",
    "    encoded_dev_col = encoder.transform(dev_df[[col]])\n",
    "    encoded_test_col = encoder.transform(test_df[[col]])\n",
    "    categories = encoder.get_feature_names_out([col])\n",
    "    dev_df = dev_df.join(pd.DataFrame(encoded_dev_col, columns=categories, index=dev_df.index))\n",
    "    test_df = test_df.join(pd.DataFrame(encoded_test_col, columns=categories, index=test_df.index))\n",
    "    dev_df.drop(columns=[col], inplace=True)\n",
    "    test_df.drop(columns=[col], inplace=True)\n",
    "    return dev_df, test_df\n",
    "\n",
    "def encode_columns(dev_df, test_df):\n",
    "    \"\"\"Encode all categorical columns in the dataframe\"\"\"\n",
    "    ordinal_cols = ['host_response_time', 'bathrooms', 'bedrooms', 'beds']\n",
    "    normal_cols = ['host_is_superhost', 'host_neighbourhood', 'host_has_profile_pic', \n",
    "                   'host_identity_verified', 'street', 'neighbourhood', 'neighbourhood_cleansed',\n",
    "                   'city', 'state', 'market', 'smart_location', 'is_location_exact', 'property_type',\n",
    "                   'room_type', 'bed_type', 'calendar_updated', 'calendar_last_scraped', \n",
    "                   'jurisdiction_names', 'instant_bookable', 'cancellation_policy', \n",
    "                   'require_guest_profile_picture', 'require_guest_phone_verification', \n",
    "                   'review_scores_accuracy', 'review_scores_cleanliness', 'review_scores_checkin', \n",
    "                   'review_scores_communication', 'review_scores_location', 'review_scores_value',\n",
    "                   'calculated_host_listings_count', 'calculated_host_listings_count_entire_homes', \n",
    "                   'calculated_host_listings_count_private_rooms', 'calculated_host_listings_count_shared_rooms']\n",
    "    for col in ordinal_cols:\n",
    "        dev_df, test_df = encode_ordinal(dev_df, test_df, col)\n",
    "    for col in normal_cols:\n",
    "        dev_df, test_df = encode_normal(dev_df, test_df, col)\n",
    "    return dev_df, test_df\n",
    "\n",
    "dev_data, test_data = encode_columns(dev_data, test_data)\n"
   ]
  },
  {
   "cell_type": "code",
   "execution_count": 29,
   "id": "9b60f56a",
   "metadata": {
    "id": "9b60f56a",
    "outputId": "5850df4c-fa6d-4a33-bf58-c36dbaf56f4e"
   },
   "outputs": [
    {
     "data": {
      "text/plain": [
       "Index(['host_response_time', 'host_response_rate', 'host_acceptance_rate',\n",
       "       'host_listings_count', 'host_total_listings_count', 'zipcode',\n",
       "       'latitude', 'longitude', 'accommodates', 'bathrooms',\n",
       "       ...\n",
       "       'calculated_host_listings_count_shared_rooms_5',\n",
       "       'calculated_host_listings_count_shared_rooms_6',\n",
       "       'calculated_host_listings_count_shared_rooms_8',\n",
       "       'calculated_host_listings_count_shared_rooms_10',\n",
       "       'calculated_host_listings_count_shared_rooms_11',\n",
       "       'calculated_host_listings_count_shared_rooms_12',\n",
       "       'calculated_host_listings_count_shared_rooms_13',\n",
       "       'calculated_host_listings_count_shared_rooms_18',\n",
       "       'calculated_host_listings_count_shared_rooms_39',\n",
       "       'calculated_host_listings_count_shared_rooms_48'],\n",
       "      dtype='object', length=582)"
      ]
     },
     "execution_count": 29,
     "metadata": {},
     "output_type": "execute_result"
    }
   ],
   "source": [
    "dev_data.columns"
   ]
  },
  {
   "cell_type": "markdown",
   "id": "39f8239e-1776-4c90-b2ba-782e7df74940",
   "metadata": {},
   "source": [
    "### Feature selection and dropping highly correlated columns"
   ]
  },
  {
   "cell_type": "code",
   "execution_count": 30,
   "id": "15036316",
   "metadata": {
    "id": "15036316"
   },
   "outputs": [],
   "source": [
    "def feature_selection(dev_df, test_df, threshold=0.9):\n",
    "    corr_matrix = dev_df.corr().abs()\n",
    "    upper_tri = corr_matrix.where(np.triu(np.ones(corr_matrix.shape), k=1).astype(np.bool))\n",
    "    to_drop = [column for column in upper_tri.columns if any(upper_tri[column] > threshold)]\n",
    "    dev_df = dev_df.drop(columns=to_drop)\n",
    "    test_df = test_df.drop(columns=to_drop)\n",
    "    print(to_drop)\n",
    "    return dev_df, test_df"
   ]
  },
  {
   "cell_type": "code",
   "execution_count": 31,
   "id": "48056337",
   "metadata": {
    "id": "48056337",
    "outputId": "65709d3b-e245-48f5-88fd-60e1deb378c0"
   },
   "outputs": [
    {
     "name": "stderr",
     "output_type": "stream",
     "text": [
      "The default value of numeric_only in DataFrame.corr is deprecated. In a future version, it will default to False. Select only valid columns or specify the value of numeric_only to silence this warning.\n"
     ]
    },
    {
     "name": "stdout",
     "output_type": "stream",
     "text": [
      "['host_total_listings_count', 'minimum_minimum_nights', 'minimum_maximum_nights', 'minimum_nights_avg_ntm', 'maximum_nights_avg_ntm', 'availability_90', 'host_neighbourhood_Potrero Hill', 'neighbourhood_Chapman/Morse', 'neighbourhood_College Park', 'neighbourhood_Cupertino', 'neighbourhood_Delmas Park', 'neighbourhood_Forest/Pruneridge', 'neighbourhood_Los Altos Hills', 'neighbourhood_Mountain View', 'neighbourhood_Santa Clara', 'neighbourhood_Sunnyvale', 'neighbourhood_Vermont/McKendrie', 'neighbourhood_cleansed_Cupertino', 'neighbourhood_cleansed_Los Altos', 'neighbourhood_cleansed_Los Altos Hills', 'neighbourhood_cleansed_Milpitas', 'neighbourhood_cleansed_Monte Sereno', 'neighbourhood_cleansed_Mountain View', 'neighbourhood_cleansed_Palo Alto', 'neighbourhood_cleansed_San Jose', 'neighbourhood_cleansed_Santa Clara', 'neighbourhood_cleansed_Saratoga', 'neighbourhood_cleansed_Sunnyvale', 'city_Cupertino', 'city_Danville ', 'city_Fremont', 'city_Gilroy', 'city_Hollister', 'city_Los Altos', 'city_Los Altos Hills', 'city_Los Gatos', 'city_Los Gatos ', 'city_Menlo Park', 'city_Milpitas', 'city_Milpitas ', 'city_Monte Sereno', 'city_Morgan Hill', 'city_Mountain View', 'city_Mountain View ', 'city_Palo Alto', 'city_Palo Alto ', 'city_San Jose', 'city_San Martin', 'city_Santa Clara', 'city_Santa Clara County', 'city_Saratoga', 'city_Stanford', 'city_Sunnyvale', 'city_Sunnyvale ', 'city_Watsonville', 'city_santa clara', 'city_圣何塞', 'state_California ', 'market_South Bay, CA', 'smart_location_Campbell, CA', 'smart_location_Cupertino, CA', 'smart_location_Danville , CA', 'smart_location_Fremont, CA', 'smart_location_Gilroy, CA', 'smart_location_Hollister, CA', 'smart_location_Los Altos Hills, CA', 'smart_location_Los Altos, CA', 'smart_location_Los Gatos , CA', 'smart_location_Los Gatos, CA', 'smart_location_Menlo Park, CA', 'smart_location_Milpitas , Ca', 'smart_location_Milpitas, CA', 'smart_location_Monte Sereno, CA', 'smart_location_Morgan Hill, CA', 'smart_location_Mountain View , CA', 'smart_location_Mountain View, CA', 'smart_location_Palo Alto , CA', 'smart_location_Palo Alto, CA', 'smart_location_San Jose , CA', 'smart_location_San Jose , Ca', 'smart_location_San Jose, CA', 'smart_location_San Martin, CA', 'smart_location_Santa Clara County, CA', 'smart_location_Santa Clara, CA', 'smart_location_Saratoga, CA', 'smart_location_Stanford, CA', 'smart_location_Sunnyvale , CA', 'smart_location_Sunnyvale, CA', 'smart_location_Sunnyvale, California ', 'smart_location_US, ', 'smart_location_Watsonville, CA', 'smart_location_santa clara, CA', 'smart_location_圣何塞, CA', 'jurisdiction_names_{\"Morgan Hill\",\" CA\"}', 'jurisdiction_names_{\"Mountain View\",\" CA\"}', 'jurisdiction_names_{\"PALO ALTO\"}', 'jurisdiction_names_{\"SANTA CLARA\"}', 'jurisdiction_names_{\"San Benito County\",\" CA\"}', 'jurisdiction_names_{Cupertino,\" CA\"}', 'jurisdiction_names_{Milpitas,\" CA\"}', 'jurisdiction_names_{Sunnyvale,\" CA\"}', 'review_scores_cleanliness_9.570390942106387', 'review_scores_checkin_9.814569536423841', 'review_scores_communication_9.791497543259988', 'review_scores_location_9.791924802392652', 'review_scores_value_9.52211066011536', 'calculated_host_listings_count_23', 'calculated_host_listings_count_33', 'calculated_host_listings_count_411', 'calculated_host_listings_count_entire_homes_29', 'calculated_host_listings_count_entire_homes_32', 'calculated_host_listings_count_entire_homes_33', 'calculated_host_listings_count_entire_homes_39', 'calculated_host_listings_count_entire_homes_67', 'calculated_host_listings_count_entire_homes_124', 'calculated_host_listings_count_entire_homes_411', 'calculated_host_listings_count_private_rooms_21', 'calculated_host_listings_count_private_rooms_30', 'calculated_host_listings_count_private_rooms_62', 'calculated_host_listings_count_shared_rooms_18', 'calculated_host_listings_count_shared_rooms_39', 'calculated_host_listings_count_shared_rooms_48']\n"
     ]
    },
    {
     "name": "stderr",
     "output_type": "stream",
     "text": [
      "`np.bool` is a deprecated alias for the builtin `bool`. To silence this warning, use `bool` by itself. Doing this will not modify any behavior and is safe. If you specifically wanted the numpy scalar type, use `np.bool_` here.\n",
      "Deprecated in NumPy 1.20; for more details and guidance: https://numpy.org/devdocs/release/1.20.0-notes.html#deprecations\n"
     ]
    }
   ],
   "source": [
    "dev_data, test_data = feature_selection(dev_data, test_data, threshold=0.9)"
   ]
  },
  {
   "cell_type": "code",
   "execution_count": 32,
   "id": "d8cf0235",
   "metadata": {
    "id": "d8cf0235",
    "outputId": "0e138430-585f-45fc-b94d-91ed23b907b1"
   },
   "outputs": [
    {
     "name": "stdout",
     "output_type": "stream",
     "text": [
      "Final features shape of dev set (5776, 460)\n",
      "Final features shape of test set (1445, 460)\n"
     ]
    }
   ],
   "source": [
    "print(\"Final features shape of dev set\", dev_data.shape)\n",
    "print(\"Final features shape of test set\", test_data.shape)"
   ]
  },
  {
   "cell_type": "code",
   "execution_count": 33,
   "id": "579f80c3",
   "metadata": {
    "id": "579f80c3"
   },
   "outputs": [],
   "source": [
    "from sklearn.linear_model import LinearRegression\n",
    "from sklearn.metrics import mean_squared_error\n",
    "\n",
    "# Separate features and target variable for development data\n",
    "X_dev = dev_data.drop(columns=['price'])\n",
    "y_dev = dev_data['price']\n",
    "\n",
    "# Separate features and target variable for test data\n",
    "X_test = test_data.drop(columns=['price'])\n",
    "y_test = test_data['price']"
   ]
  },
  {
   "cell_type": "markdown",
   "id": "398b8b13-dd98-43a2-a9c8-0c5463144726",
   "metadata": {},
   "source": [
    "### Decision Tree Regressor"
   ]
  },
  {
   "cell_type": "code",
   "execution_count": 34,
   "id": "c356caad",
   "metadata": {
    "id": "c356caad",
    "outputId": "37014ea6-cf67-47f7-89fa-f96de40b3e52"
   },
   "outputs": [
    {
     "name": "stdout",
     "output_type": "stream",
     "text": [
      "Evaluation metrics on dev set:\n",
      "Mean Squared Error: 8.023818937280894e-33\n",
      "Mean Absolute Error: 1.0994590894833614e-17\n",
      "R-squared: 1.0\n",
      "\n",
      "\n",
      "Evaluation metrics on test set:\n",
      "Mean Squared Error: 0.2427225656587119\n",
      "Mean Absolute Error: 0.3327115166873951\n",
      "R-squared: 0.5491812393753097\n"
     ]
    }
   ],
   "source": [
    "from sklearn.tree import DecisionTreeRegressor\n",
    "from sklearn.metrics import mean_squared_error, r2_score, mean_absolute_error\n",
    "\n",
    "# train the model\n",
    "regressor = DecisionTreeRegressor(random_state=42)\n",
    "regressor.fit(X_dev, y_dev)\n",
    "\n",
    "# evaluate the model on dev set\n",
    "y_pred_dev = regressor.predict(X_dev)\n",
    "mse_dev = mean_squared_error(y_dev, y_pred_dev)\n",
    "mae_dev = mean_absolute_error(y_dev, y_pred_dev)\n",
    "r2_dev = r2_score(y_dev, y_pred_dev)\n",
    "\n",
    "# evaluate the model on test set\n",
    "y_pred_test = regressor.predict(X_test)\n",
    "mse_test = mean_squared_error(y_test, y_pred_test)\n",
    "mae_test = mean_absolute_error(y_test, y_pred_test)\n",
    "r2_test = r2_score(y_test, y_pred_test)\n",
    "\n",
    "# print the evaluation metrics\n",
    "print(\"Evaluation metrics on dev set:\")\n",
    "print(f\"Mean Squared Error: {mse_dev}\")\n",
    "print(f\"Mean Absolute Error: {mae_dev}\")\n",
    "print(f\"R-squared: {r2_dev}\")\n",
    "print(\"\\n\")\n",
    "print(\"Evaluation metrics on test set:\")\n",
    "print(f\"Mean Squared Error: {mse_test}\")\n",
    "print(f\"Mean Absolute Error: {mae_test}\")\n",
    "print(f\"R-squared: {r2_test}\")\n"
   ]
  },
  {
   "cell_type": "markdown",
   "id": "0add05a2-6aed-41f4-b368-da76956e6927",
   "metadata": {},
   "source": [
    "### Random Forest Regressor"
   ]
  },
  {
   "cell_type": "code",
   "execution_count": 35,
   "id": "7366dddb",
   "metadata": {
    "id": "7366dddb",
    "outputId": "1d706418-c6e2-4e9e-bacb-5c24589ac023"
   },
   "outputs": [
    {
     "name": "stdout",
     "output_type": "stream",
     "text": [
      "Evaluation metrics on dev set:\n",
      "Mean Squared Error: 0.021100410766331134\n",
      "Mean Absolute Error: 0.09402183595102637\n",
      "R-squared: 0.9647687568539686\n",
      "\n",
      "Evaluation metrics on test set:\n",
      "Mean Squared Error: 0.10805873023135466\n",
      "Mean Absolute Error: 0.22946957372229476\n",
      "R-squared: 0.7992980063251545\n"
     ]
    }
   ],
   "source": [
    "from sklearn.ensemble import RandomForestRegressor\n",
    "from sklearn.metrics import mean_squared_error, mean_absolute_error, r2_score\n",
    "\n",
    "# Create a Random Forest Regressor object\n",
    "rf_model = RandomForestRegressor(n_estimators=100, random_state=42)\n",
    "\n",
    "# Fit the model on the training data\n",
    "rf_model.fit(X_dev, y_dev)\n",
    "\n",
    "# Predict on the dev and test sets\n",
    "y_dev_pred = rf_model.predict(X_dev)\n",
    "y_test_pred = rf_model.predict(X_test)\n",
    "\n",
    "# Calculate evaluation metrics on dev set\n",
    "mse_dev = mean_squared_error(y_dev, y_dev_pred)\n",
    "mae_dev = mean_absolute_error(y_dev, y_dev_pred)\n",
    "r2_dev = r2_score(y_dev, y_dev_pred)\n",
    "\n",
    "print(\"Evaluation metrics on dev set:\")\n",
    "print(\"Mean Squared Error: {}\".format(mse_dev))\n",
    "print(\"Mean Absolute Error: {}\".format(mae_dev))\n",
    "print(\"R-squared: {}\".format(r2_dev))\n",
    "\n",
    "# Calculate evaluation metrics on test set\n",
    "mse_test = mean_squared_error(y_test, y_test_pred)\n",
    "mae_test = mean_absolute_error(y_test, y_test_pred)\n",
    "r2_test = r2_score(y_test, y_test_pred)\n",
    "\n",
    "print(\"\\nEvaluation metrics on test set:\")\n",
    "print(\"Mean Squared Error: {}\".format(mse_test))\n",
    "print(\"Mean Absolute Error: {}\".format(mae_test))\n",
    "print(\"R-squared: {}\".format(r2_test))\n"
   ]
  },
  {
   "cell_type": "markdown",
   "id": "0d87e599-3650-4a1a-9500-7007a806b882",
   "metadata": {},
   "source": [
    "### Performing RandomSearchCV to find best hyperparameters for Random Forest Regressor"
   ]
  },
  {
   "cell_type": "code",
   "execution_count": 36,
   "id": "416c5901",
   "metadata": {
    "id": "416c5901",
    "outputId": "5ff71622-152f-4dc1-95dc-d3684ae3e41a"
   },
   "outputs": [
    {
     "name": "stdout",
     "output_type": "stream",
     "text": [
      "Best Hyperparameters:  {'n_estimators': 200, 'min_samples_split': 5, 'min_samples_leaf': 1, 'max_features': None, 'max_depth': 15}\n",
      "\n",
      "Evaluation metrics on dev set:\n",
      "Mean Squared Error: 0.051930373539472635\n",
      "Mean Absolute Error: 0.1619618990963084\n",
      "R-squared: 0.9132921326937979\n",
      "\n",
      "Evaluation metrics on test set:\n",
      "Mean Squared Error: 0.11124592119612675\n",
      "Mean Absolute Error: 0.23686639696744793\n",
      "R-squared: 0.7933783034054306\n"
     ]
    }
   ],
   "source": [
    "from sklearn.ensemble import RandomForestRegressor\n",
    "from sklearn.model_selection import RandomizedSearchCV\n",
    "from sklearn.metrics import mean_squared_error, mean_absolute_error, r2_score\n",
    "\n",
    "# Create a Random Forest Regressor object\n",
    "rf_model = RandomForestRegressor(random_state=42)\n",
    "\n",
    "# Define the hyperparameter grid for RandomizedSearchCV\n",
    "param_dist = {\n",
    "    \"n_estimators\": [50, 100, 200, 300],\n",
    "    \"max_depth\": [5, 10, 15, None],\n",
    "    \"min_samples_split\": [2, 5, 10],\n",
    "    \"min_samples_leaf\": [1, 2, 4],\n",
    "    \"max_features\": [\"auto\", \"sqrt\", \"log2\", None]\n",
    "}\n",
    "\n",
    "# Create a RandomizedSearchCV object\n",
    "rf_random = RandomizedSearchCV(\n",
    "    estimator=rf_model,\n",
    "    param_distributions=param_dist,\n",
    "    n_iter=10,\n",
    "    cv=5,\n",
    "    random_state=42,\n",
    "    n_jobs=-1\n",
    ")\n",
    "\n",
    "# Fit the RandomizedSearchCV object on the training data\n",
    "rf_random.fit(X_dev, y_dev)\n",
    "\n",
    "# Print the best hyperparameters\n",
    "print(\"Best Hyperparameters: \", rf_random.best_params_)\n",
    "\n",
    "# Predict on the dev and test sets using the best estimator\n",
    "best_rf_model = rf_random.best_estimator_\n",
    "y_dev_pred = best_rf_model.predict(X_dev)\n",
    "y_test_pred = best_rf_model.predict(X_test)\n",
    "\n",
    "# Calculate evaluation metrics on dev set\n",
    "mse_dev = mean_squared_error(y_dev, y_dev_pred)\n",
    "mae_dev = mean_absolute_error(y_dev, y_dev_pred)\n",
    "r2_dev = r2_score(y_dev, y_dev_pred)\n",
    "\n",
    "print(\"\\nEvaluation metrics on dev set:\")\n",
    "print(\"Mean Squared Error: {}\".format(mse_dev))\n",
    "print(\"Mean Absolute Error: {}\".format(mae_dev))\n",
    "print(\"R-squared: {}\".format(r2_dev))\n",
    "\n",
    "# Calculate evaluation metrics on test set\n",
    "mse_test = mean_squared_error(y_test, y_test_pred)\n",
    "mae_test = mean_absolute_error(y_test, y_test_pred)\n",
    "r2_test = r2_score(y_test, y_test_pred)\n",
    "\n",
    "print(\"\\nEvaluation metrics on test set:\")\n",
    "print(\"Mean Squared Error: {}\".format(mse_test))\n",
    "print(\"Mean Absolute Error: {}\".format(mae_test))\n",
    "print(\"R-squared: {}\".format(r2_test))\n"
   ]
  },
  {
   "cell_type": "code",
   "execution_count": 37,
   "id": "97cfcb79",
   "metadata": {
    "id": "97cfcb79",
    "outputId": "f8766d83-2c6a-45ac-afed-c45ee0622835"
   },
   "outputs": [
    {
     "name": "stdout",
     "output_type": "stream",
     "text": [
      "Top 3 most important features:\n",
      "bedrooms: 0.3673363328353575\n",
      "cleaning_fee: 0.12525070626037124\n",
      "room_type_Private room: 0.05795515011702611\n"
     ]
    }
   ],
   "source": [
    "## YOUR CODE HERE\n",
    "# Get feature importances from the trained RF model\n",
    "importances = rf_random.best_estimator_.feature_importances_\n",
    "\n",
    "# Create a dictionary of feature importance scores with their corresponding column names\n",
    "feature_importances = dict(zip(X_dev.columns, importances))\n",
    "\n",
    "# Sort the features by their importance scores (descending order)\n",
    "sorted_features = sorted(feature_importances.items(), key=lambda x: x[1], reverse=True)\n",
    "\n",
    "# Print the top 3 most important features\n",
    "print(\"Top 3 most important features:\")\n",
    "for feature, importance in sorted_features[:3]:\n",
    "    print(f\"{feature}: {importance}\")\n"
   ]
  },
  {
   "cell_type": "code",
   "execution_count": 38,
   "id": "64592039",
   "metadata": {
    "id": "64592039",
    "outputId": "3b72b606-5168-4e17-96ee-c79745bc9b76"
   },
   "outputs": [
    {
     "data": {
      "image/png": "[encoded data removed]",
      "text/plain": [
       "<Figure size 1000x800 with 1 Axes>"
      ]
     },
     "metadata": {},
     "output_type": "display_data"
    }
   ],
   "source": [
    "import matplotlib.pyplot as plt\n",
    "\n",
    "# Get feature importances from the trained RF model\n",
    "importances = rf_random.best_estimator_.feature_importances_\n",
    "\n",
    "# Create a dictionary of feature importance scores with their corresponding column names\n",
    "feature_importances = dict(zip(X_dev.columns, importances))\n",
    "\n",
    "# Sort the features by their importance scores (descending order)\n",
    "sorted_features = sorted(feature_importances.items(), key=lambda x: x[1], reverse=True)\n",
    "\n",
    "# Extract the top 15 features and their importances\n",
    "top_features = sorted_features[:15][::-1]\n",
    "feature_names = [x[0] for x in top_features]\n",
    "feature_importances = [x[1] for x in top_features]\n",
    "\n",
    "# Create a horizontal bar chart to display the feature importances\n",
    "fig, ax = plt.subplots(figsize=(10, 8))\n",
    "ax.barh(feature_names, feature_importances)\n",
    "ax.set_xlabel('Feature Importance')\n",
    "ax.set_ylabel('Feature Name')\n",
    "ax.set_title('Top 15 Most Important Features')\n",
    "plt.show()\n"
   ]
  },
  {
   "cell_type": "markdown",
   "id": "89bbf52d-1f93-4991-b0b9-dffac71577de",
   "metadata": {},
   "source": [
    "## CatBoost and Neural Networks"
   ]
  },
  {
   "cell_type": "code",
   "execution_count": 39,
   "id": "7de71072",
   "metadata": {
    "id": "7de71072"
   },
   "outputs": [],
   "source": [
    "categorial_features = []\n",
    "# CatBoost algorithm requires all categorical columns to be converted to string\n",
    "# Hence making a copy\n",
    "X_dev_catboost = X_dev.copy()\n",
    "X_test_catboost = X_test.copy()\n",
    "\n",
    "for col in X_dev.columns:\n",
    "    if(X_dev[col].dtypes=='category'):\n",
    "        X_dev_catboost[col] = X_dev_catboost[col].astype('str')\n",
    "        X_test_catboost[col] = X_test_catboost[col].astype('str')\n",
    "        categorial_features.append(col)"
   ]
  },
  {
   "cell_type": "code",
   "execution_count": 40,
   "id": "b12954b5",
   "metadata": {
    "id": "b12954b5"
   },
   "outputs": [
    {
     "data": {
      "text/plain": [
       "['host_response_rate',\n",
       " 'accommodates',\n",
       " 'guests_included',\n",
       " 'availability_30',\n",
       " 'review_scores_rating']"
      ]
     },
     "execution_count": 40,
     "metadata": {},
     "output_type": "execute_result"
    }
   ],
   "source": [
    "categorial_features"
   ]
  },
  {
   "cell_type": "code",
   "execution_count": 41,
   "id": "bbbc0e93-663e-468b-9442-73d01815d19a",
   "metadata": {},
   "outputs": [
    {
     "name": "stdout",
     "output_type": "stream",
     "text": [
      "Best Hyperparameters:  {'task_type': 'CPU', 'learning_rate': 0.1, 'l2_leaf_reg': 1, 'iterations': 200, 'grow_policy': 'Lossguide', 'depth': 4, 'border_count': 32, 'bagging_temperature': 5}\n",
      "\n",
      "Evaluation metrics on dev set:\n",
      "Mean Squared Error: 0.10916697139130532\n",
      "Mean Absolute Error: 0.23599229782900183\n",
      "R-squared: 0.8177244909971164\n",
      "\n",
      "Evaluation metrics on test set:\n",
      "Mean Squared Error: 0.10741064378524422\n",
      "Mean Absolute Error: 0.24003929568092744\n",
      "R-squared: 0.8005017243545032\n"
     ]
    }
   ],
   "source": [
    "from catboost import CatBoostRegressor\n",
    "\n",
    "# Create a CatBoost Regressor object\n",
    "cat_model = CatBoostRegressor(random_seed=42, verbose=0)\n",
    "\n",
    "# Define the hyperparameter grid for RandomizedSearchCV\n",
    "param_dist = {\n",
    "    'iterations': [100, 200, 500],\n",
    "    'learning_rate': np.logspace(-4, 0, 5),\n",
    "    'depth': [4, 6, 8, 10],\n",
    "    'l2_leaf_reg': [1, 3, 5, 7, 9],\n",
    "    'border_count': [32, 64, 128],\n",
    "    'bagging_temperature': [0, 1, 5, 10],\n",
    "    'grow_policy': ['SymmetricTree', 'Depthwise', 'Lossguide'],\n",
    "    'task_type': ['CPU']\n",
    "}\n",
    "\n",
    "# Create a RandomizedSearchCV object\n",
    "cat_random = RandomizedSearchCV(\n",
    "    estimator=cat_model,\n",
    "    param_distributions=param_dist,\n",
    "    n_iter=10,\n",
    "    cv=5,\n",
    "    random_state=42,\n",
    "    n_jobs=-1\n",
    ")\n",
    "\n",
    "# Fit the RandomizedSearchCV object on the training data\n",
    "cat_random.fit(X_dev_catboost, y_dev, cat_features=categorial_features)\n",
    "\n",
    "# Print the best hyperparameters\n",
    "print(\"Best Hyperparameters: \", cat_random.best_params_)\n",
    "\n",
    "# Predict on the dev and test sets using the best estimator\n",
    "best_cat_model = cat_random.best_estimator_\n",
    "y_dev_pred = best_cat_model.predict(X_dev_catboost)\n",
    "y_test_pred = best_cat_model.predict(X_test_catboost)\n",
    "\n",
    "# Calculate evaluation metrics on dev set\n",
    "mse_dev = mean_squared_error(y_dev, y_dev_pred)\n",
    "mae_dev = mean_absolute_error(y_dev, y_dev_pred)\n",
    "r2_dev = r2_score(y_dev, y_dev_pred)\n",
    "\n",
    "print(\"\\nEvaluation metrics on dev set:\")\n",
    "print(\"Mean Squared Error: {}\".format(mse_dev))\n",
    "print(\"Mean Absolute Error: {}\".format(mae_dev))\n",
    "print(\"R-squared: {}\".format(r2_dev))\n",
    "\n",
    "\n",
    "# Calculate evaluation metrics on test set\n",
    "mse_test = mean_squared_error(y_test, y_test_pred)\n",
    "mae_test = mean_absolute_error(y_test, y_test_pred)\n",
    "r2_test = r2_score(y_test, y_test_pred)\n",
    "\n",
    "print(\"\\nEvaluation metrics on test set:\")\n",
    "print(\"Mean Squared Error: {}\".format(mse_test))\n",
    "print(\"Mean Absolute Error: {}\".format(mae_test))\n",
    "print(\"R-squared: {}\".format(r2_test))\n"
   ]
  },
  {
   "cell_type": "code",
   "execution_count": 42,
   "id": "f7869e4a-02c9-49eb-a9f0-f819de42aefd",
   "metadata": {},
   "outputs": [],
   "source": [
    "cat_final = cat_random.best_estimator_\n",
    "cat_final.fit(X_dev_catboost, y_dev)\n",
    "\n",
    "feat_importance = cat_final.get_feature_importance()\n",
    "\n",
    "feature_names = list(X_dev_catboost.columns)\n",
    "\n",
    "feat_imps_cat = pd.DataFrame(feat_importance, index = \\\n",
    "            feature_names, columns = ['importance_values'])\n"
   ]
  },
  {
   "cell_type": "code",
   "execution_count": 43,
   "id": "acd7a8de-9702-4509-b150-81b58cac9067",
   "metadata": {},
   "outputs": [
    {
     "data": {
      "image/png": "[encoded data removed]",
      "text/plain": [
       "<Figure size 500x500 with 1 Axes>"
      ]
     },
     "metadata": {},
     "output_type": "display_data"
    }
   ],
   "source": [
    "feat_imps_cat = feat_imps_cat.sort_values('importance_values', ascending=False)\n",
    "fig, ax = plt.subplots(figsize=(5,5))\n",
    "\n",
    "sns.barplot(x=feat_imps_cat.index[0:15], y=feat_imps_cat['importance_values'][0:15])\n",
    "\n",
    "ax.set_title(\"Feature Importance\")\n",
    "ax.set_xlabel('Features')\n",
    "ax.set_ylabel('Importance')\n",
    "plt.xticks(rotation=90)\n",
    "plt.show()"
   ]
  },
  {
   "cell_type": "code",
   "execution_count": 44,
   "id": "0b66a6ec-0321-4e73-834e-4f5d1168c61b",
   "metadata": {},
   "outputs": [],
   "source": [
    "## Preprocesing for Neural Networks"
   ]
  },
  {
   "cell_type": "code",
   "execution_count": 45,
   "id": "6da2c90d-b187-4a5f-90ce-e09eaddd1412",
   "metadata": {},
   "outputs": [],
   "source": [
    "X_dev_NN = X_dev.copy()\n",
    "X_test_NN = X_test.copy()\n",
    "for col in categorial_features:\n",
    "    X_dev_NN[col] = X_dev_NN[col].astype('float')\n",
    "    X_test_NN[col] = X_test_NN[col].astype('float')"
   ]
  },
  {
   "cell_type": "code",
   "execution_count": 46,
   "id": "98a32a30-57e8-42d2-a43c-5e0ac5bdce86",
   "metadata": {},
   "outputs": [],
   "source": [
    "from sklearn.preprocessing import StandardScaler\n",
    "scaler = StandardScaler()\n",
    "X_dev_NN = scaler.fit_transform(X_dev_NN)   \n",
    "X_test_NN = scaler.transform(X_test_NN)"
   ]
  },
  {
   "cell_type": "code",
   "execution_count": 47,
   "id": "19ce8dd9-3e09-4a04-a8cb-a50c53ba6115",
   "metadata": {
    "collapsed": true,
    "jupyter": {
     "outputs_hidden": true,
     "source_hidden": true
    },
    "tags": []
   },
   "outputs": [
    {
     "name": "stderr",
     "output_type": "stream",
     "text": [
      "/Users/varshameghanakanmuri/opt/anaconda3/lib/python3.9/site-packages/sklearn/neural_network/_multilayer_perceptron.py:692: ConvergenceWarning: Stochastic Optimizer: Maximum iterations (200) reached and the optimization hasn't converged yet.\n",
      "  warnings.warn(\n",
      "/Users/varshameghanakanmuri/opt/anaconda3/lib/python3.9/site-packages/sklearn/neural_network/_multilayer_perceptron.py:692: ConvergenceWarning: Stochastic Optimizer: Maximum iterations (200) reached and the optimization hasn't converged yet.\n",
      "  warnings.warn(\n",
      "/Users/varshameghanakanmuri/opt/anaconda3/lib/python3.9/site-packages/sklearn/neural_network/_multilayer_perceptron.py:692: ConvergenceWarning: Stochastic Optimizer: Maximum iterations (200) reached and the optimization hasn't converged yet.\n",
      "  warnings.warn(\n",
      "/Users/varshameghanakanmuri/opt/anaconda3/lib/python3.9/site-packages/sklearn/neural_network/_multilayer_perceptron.py:692: ConvergenceWarning: Stochastic Optimizer: Maximum iterations (200) reached and the optimization hasn't converged yet.\n",
      "  warnings.warn(\n",
      "/Users/varshameghanakanmuri/opt/anaconda3/lib/python3.9/site-packages/sklearn/neural_network/_multilayer_perceptron.py:692: ConvergenceWarning: Stochastic Optimizer: Maximum iterations (200) reached and the optimization hasn't converged yet.\n",
      "  warnings.warn(\n",
      "A worker stopped while some jobs were given to the executor. This can be caused by a too short worker timeout or by a memory leak.\n",
      "/Users/varshameghanakanmuri/opt/anaconda3/lib/python3.9/site-packages/sklearn/neural_network/_multilayer_perceptron.py:692: ConvergenceWarning: Stochastic Optimizer: Maximum iterations (200) reached and the optimization hasn't converged yet.\n",
      "  warnings.warn(\n",
      "/Users/varshameghanakanmuri/opt/anaconda3/lib/python3.9/site-packages/sklearn/neural_network/_multilayer_perceptron.py:692: ConvergenceWarning: Stochastic Optimizer: Maximum iterations (200) reached and the optimization hasn't converged yet.\n",
      "  warnings.warn(\n",
      "/Users/varshameghanakanmuri/opt/anaconda3/lib/python3.9/site-packages/sklearn/neural_network/_multilayer_perceptron.py:692: ConvergenceWarning: Stochastic Optimizer: Maximum iterations (200) reached and the optimization hasn't converged yet.\n",
      "  warnings.warn(\n",
      "/Users/varshameghanakanmuri/opt/anaconda3/lib/python3.9/site-packages/sklearn/neural_network/_multilayer_perceptron.py:692: ConvergenceWarning: Stochastic Optimizer: Maximum iterations (200) reached and the optimization hasn't converged yet.\n",
      "  warnings.warn(\n",
      "/Users/varshameghanakanmuri/opt/anaconda3/lib/python3.9/site-packages/sklearn/neural_network/_multilayer_perceptron.py:692: ConvergenceWarning: Stochastic Optimizer: Maximum iterations (200) reached and the optimization hasn't converged yet.\n",
      "  warnings.warn(\n",
      "/Users/varshameghanakanmuri/opt/anaconda3/lib/python3.9/site-packages/sklearn/neural_network/_multilayer_perceptron.py:692: ConvergenceWarning: Stochastic Optimizer: Maximum iterations (200) reached and the optimization hasn't converged yet.\n",
      "  warnings.warn(\n",
      "/Users/varshameghanakanmuri/opt/anaconda3/lib/python3.9/site-packages/sklearn/neural_network/_multilayer_perceptron.py:692: ConvergenceWarning: Stochastic Optimizer: Maximum iterations (200) reached and the optimization hasn't converged yet.\n",
      "  warnings.warn(\n",
      "/Users/varshameghanakanmuri/opt/anaconda3/lib/python3.9/site-packages/sklearn/neural_network/_multilayer_perceptron.py:692: ConvergenceWarning: Stochastic Optimizer: Maximum iterations (200) reached and the optimization hasn't converged yet.\n",
      "  warnings.warn(\n",
      "/Users/varshameghanakanmuri/opt/anaconda3/lib/python3.9/site-packages/sklearn/neural_network/_multilayer_perceptron.py:692: ConvergenceWarning: Stochastic Optimizer: Maximum iterations (200) reached and the optimization hasn't converged yet.\n",
      "  warnings.warn(\n",
      "/Users/varshameghanakanmuri/opt/anaconda3/lib/python3.9/site-packages/sklearn/neural_network/_multilayer_perceptron.py:692: ConvergenceWarning: Stochastic Optimizer: Maximum iterations (200) reached and the optimization hasn't converged yet.\n",
      "  warnings.warn(\n",
      "/Users/varshameghanakanmuri/opt/anaconda3/lib/python3.9/site-packages/sklearn/neural_network/_multilayer_perceptron.py:692: ConvergenceWarning: Stochastic Optimizer: Maximum iterations (200) reached and the optimization hasn't converged yet.\n",
      "  warnings.warn(\n",
      "/Users/varshameghanakanmuri/opt/anaconda3/lib/python3.9/site-packages/sklearn/neural_network/_multilayer_perceptron.py:692: ConvergenceWarning: Stochastic Optimizer: Maximum iterations (200) reached and the optimization hasn't converged yet.\n",
      "  warnings.warn(\n",
      "/Users/varshameghanakanmuri/opt/anaconda3/lib/python3.9/site-packages/sklearn/neural_network/_multilayer_perceptron.py:692: ConvergenceWarning: Stochastic Optimizer: Maximum iterations (200) reached and the optimization hasn't converged yet.\n",
      "  warnings.warn(\n",
      "/Users/varshameghanakanmuri/opt/anaconda3/lib/python3.9/site-packages/sklearn/neural_network/_multilayer_perceptron.py:692: ConvergenceWarning: Stochastic Optimizer: Maximum iterations (200) reached and the optimization hasn't converged yet.\n",
      "  warnings.warn(\n",
      "/Users/varshameghanakanmuri/opt/anaconda3/lib/python3.9/site-packages/sklearn/neural_network/_multilayer_perceptron.py:692: ConvergenceWarning: Stochastic Optimizer: Maximum iterations (200) reached and the optimization hasn't converged yet.\n",
      "  warnings.warn(\n",
      "/Users/varshameghanakanmuri/opt/anaconda3/lib/python3.9/site-packages/sklearn/neural_network/_multilayer_perceptron.py:692: ConvergenceWarning: Stochastic Optimizer: Maximum iterations (200) reached and the optimization hasn't converged yet.\n",
      "  warnings.warn(\n",
      "/Users/varshameghanakanmuri/opt/anaconda3/lib/python3.9/site-packages/sklearn/neural_network/_multilayer_perceptron.py:692: ConvergenceWarning: Stochastic Optimizer: Maximum iterations (200) reached and the optimization hasn't converged yet.\n",
      "  warnings.warn(\n"
     ]
    },
    {
     "name": "stdout",
     "output_type": "stream",
     "text": [
      "Best Hyperparameters:  {'solver': 'sgd', 'learning_rate': 'adaptive', 'hidden_layer_sizes': (512, 512), 'alpha': 0.01, 'activation': 'logistic'}\n",
      "\n",
      "Evaluation metrics on dev set:\n",
      "Mean Squared Error: 0.1503883904765663\n",
      "Mean Absolute Error: 0.2706488734863528\n",
      "R-squared: 0.7488973077398775\n",
      "\n",
      "Evaluation metrics on test set:\n",
      "Mean Squared Error: 0.12740239175088927\n",
      "Mean Absolute Error: 0.266134670261379\n",
      "R-squared: 0.763370215728042\n"
     ]
    },
    {
     "name": "stderr",
     "output_type": "stream",
     "text": [
      "Stochastic Optimizer: Maximum iterations (200) reached and the optimization hasn't converged yet.\n"
     ]
    }
   ],
   "source": [
    "from sklearn.neural_network import MLPRegressor\n",
    "\n",
    "\n",
    "# Create an MLP Regressor object\n",
    "mlp = MLPRegressor(random_state=42)\n",
    "\n",
    "# Define the hyperparameter grid for RandomizedSearchCV\n",
    "param_dist = {\n",
    "    \"hidden_layer_sizes\": [(500,), (1024,512), (512,512), (512, 256), (2048, 1024,512)],\n",
    "    \"activation\": ['relu', 'tanh', 'logistic'],\n",
    "    \"solver\": ['adam','sgd'],\n",
    "    \"alpha\": [0.00001, 0.0001, 0.001, 0.01, 0.1],\n",
    "    \"learning_rate\": ['constant', 'invscaling', 'adaptive'],\n",
    "}\n",
    "\n",
    "# Create a RandomizedSearchCV object\n",
    "mlp_random = RandomizedSearchCV(\n",
    "    estimator=mlp,\n",
    "    param_distributions=param_dist,\n",
    "    n_iter=10,\n",
    "    cv=5,\n",
    "    random_state=42,\n",
    "    n_jobs=-1\n",
    ")\n",
    "\n",
    "# Fit the RandomizedSearchCV object on the training data\n",
    "mlp_random.fit(X_dev_NN, y_dev)\n",
    "\n",
    "# Print the best hyperparameters\n",
    "print(\"Best Hyperparameters: \", mlp_random.best_params_)\n",
    "\n",
    "# Predict on the dev and test sets using the best estimator\n",
    "best_mlp_model = mlp_random.best_estimator_\n",
    "y_dev_pred = best_mlp_model.predict(X_dev_NN)\n",
    "y_test_pred = best_mlp_model.predict(X_test_NN)\n",
    "\n",
    "\n",
    "# Calculate evaluation metrics on dev set\n",
    "mse_dev = mean_squared_error(y_dev, y_dev_pred)\n",
    "mae_dev = mean_absolute_error(y_dev, y_dev_pred)\n",
    "r2_dev = r2_score(y_dev, y_dev_pred)\n",
    "\n",
    "print(\"\\nEvaluation metrics on dev set:\")\n",
    "print(\"Mean Squared Error: {}\".format(mse_dev))\n",
    "print(\"Mean Absolute Error: {}\".format(mae_dev))\n",
    "print(\"R-squared: {}\".format(r2_dev))\n",
    "\n",
    "\n",
    "# Calculate evaluation metrics on test set\n",
    "mse_test = mean_squared_error(y_test, y_test_pred)\n",
    "mae_test = mean_absolute_error(y_test, y_test_pred)\n",
    "r2_test = r2_score(y_test, y_test_pred)\n",
    "\n",
    "print(\"\\nEvaluation metrics on test set:\")\n",
    "print(\"Mean Squared Error: {}\".format(mse_test))\n",
    "print(\"Mean Absolute Error: {}\".format(mae_test))\n",
    "print(\"R-squared: {}\".format(r2_test))"
   ]
  },
  {
   "cell_type": "code",
   "execution_count": 48,
   "id": "225bf37f-c25e-4733-ab58-1587d7b7806e",
   "metadata": {},
   "outputs": [
    {
     "name": "stderr",
     "output_type": "stream",
     "text": [
      "Stochastic Optimizer: Maximum iterations (200) reached and the optimization hasn't converged yet.\n"
     ]
    },
    {
     "data": {
      "text/plain": [
       "MLPRegressor(activation='logistic', alpha=0.01, hidden_layer_sizes=(512, 512),\n",
       "             learning_rate='adaptive', random_state=42, solver='sgd')"
      ]
     },
     "execution_count": 48,
     "metadata": {},
     "output_type": "execute_result"
    }
   ],
   "source": [
    "nn_final = mlp_random.best_estimator_\n",
    "nn_final.fit(X_dev_NN, y_dev)"
   ]
  },
  {
   "cell_type": "code",
   "execution_count": 49,
   "id": "9b342574-e6bf-4d78-a42b-b2d76f4ce369",
   "metadata": {},
   "outputs": [
    {
     "name": "stderr",
     "output_type": "stream",
     "text": [
      "100%|██████████| 100/100 [09:02<00:00,  5.43s/it]\n"
     ]
    }
   ],
   "source": [
    "# sample_size is a parameter which can be used to set number of data points used in the SHAP analysis.\n",
    "# setting sample_size to a higher value gives better explainability, but takes lot of time to execute.\n",
    "sample_size = 100\n",
    "tmp = X_test_NN[0:sample_size]\n",
    "\n",
    "with warnings.catch_warnings():\n",
    "    warnings.filterwarnings(\"ignore\")\n",
    "    explainer = shap.KernelExplainer(nn_final.predict, tmp)\n",
    "    shap_values = explainer.shap_values(tmp)"
   ]
  },
  {
   "cell_type": "markdown",
   "id": "55be01e7-2537-4180-a143-c47368c77303",
   "metadata": {},
   "source": [
    "### Shap summary plots for 100 data samples."
   ]
  },
  {
   "cell_type": "code",
   "execution_count": 50,
   "id": "28256d27-6f7b-4b80-89a2-376d0ac37d12",
   "metadata": {},
   "outputs": [
    {
     "name": "stderr",
     "output_type": "stream",
     "text": [
      "No data for colormapping provided via 'c'. Parameters 'vmin', 'vmax' will be ignored\n"
     ]
    },
    {
     "data": {
      "image/png": "[encoded data removed]",
      "text/plain": [
       "<Figure size 700x500 with 2 Axes>"
      ]
     },
     "metadata": {},
     "output_type": "display_data"
    }
   ],
   "source": [
    "shap.summary_plot(shap_values, tmp, feature_names = feature_names, plot_size=[7,5])"
   ]
  },
  {
   "cell_type": "code",
   "execution_count": 51,
   "id": "b4517758-7851-49a3-b55d-aac15ae0ac00",
   "metadata": {},
   "outputs": [
    {
     "name": "stderr",
     "output_type": "stream",
     "text": [
      "Using 300 background data samples could cause slower run times. Consider using shap.sample(data, K) or shap.kmeans(data, K) to summarize the background as K samples.\n",
      "100%|██████████| 300/300 [1:25:20<00:00, 17.07s/it]\n"
     ]
    }
   ],
   "source": [
    "sample_size = 300\n",
    "tmp = X_test_NN[0:sample_size]\n",
    "\n",
    "with warnings.catch_warnings():\n",
    "    warnings.filterwarnings(\"ignore\")\n",
    "    explainer = shap.KernelExplainer(nn_final.predict, tmp)\n",
    "    shap_values = explainer.shap_values(tmp)"
   ]
  },
  {
   "cell_type": "markdown",
   "id": "b46ff32e-7937-4172-8e0a-ff7855f13652",
   "metadata": {},
   "source": [
    "### Shap summary plots for 300 data samples."
   ]
  },
  {
   "cell_type": "code",
   "execution_count": 52,
   "id": "c4a6f789-c9a2-4157-8c13-b0e679deb308",
   "metadata": {},
   "outputs": [
    {
     "name": "stderr",
     "output_type": "stream",
     "text": [
      "No data for colormapping provided via 'c'. Parameters 'vmin', 'vmax' will be ignored\n"
     ]
    },
    {
     "data": {
      "image/png": "[encoded data removed]",
      "text/plain": [
       "<Figure size 700x500 with 2 Axes>"
      ]
     },
     "metadata": {},
     "output_type": "display_data"
    }
   ],
   "source": [
    "shap.summary_plot(shap_values, tmp, feature_names = feature_names, plot_size=[7,5])"
   ]
  },
  {
   "cell_type": "code",
   "execution_count": null,
   "id": "e2a89156-a560-4085-a35b-af6c95a98aa2",
   "metadata": {},
   "outputs": [],
   "source": []
  },
  {
   "cell_type": "code",
   "execution_count": null,
   "id": "40cb3f9f-9c4f-4d7f-ab24-71290fe7e0fd",
   "metadata": {},
   "outputs": [],
   "source": []
  }
 ],
 "metadata": {
  "colab": {
   "provenance": []
  },
  "kernelspec": {
   "display_name": "Python 3 (ipykernel)",
   "language": "python",
   "name": "python3"
  },
  "language_info": {
   "codemirror_mode": {
    "name": "ipython",
    "version": 3
   },
   "file_extension": ".py",
   "mimetype": "text/x-python",
   "name": "python",
   "nbconvert_exporter": "python",
   "pygments_lexer": "ipython3",
   "version": "3.9.12"
  }
 },
 "nbformat": 4,
 "nbformat_minor": 5
}
